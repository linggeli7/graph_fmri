{
 "cells": [
  {
   "cell_type": "code",
   "execution_count": 1,
   "metadata": {
    "collapsed": true
   },
   "outputs": [],
   "source": [
    "import os\n",
    "import sys\n",
    "module_path = os.path.abspath(os.path.join('..'))\n",
    "if module_path not in sys.path:\n",
    "    sys.path.append(module_path)"
   ]
  },
  {
   "cell_type": "code",
   "execution_count": 2,
   "metadata": {
    "collapsed": true
   },
   "outputs": [],
   "source": [
    "from lib import models, graph, coarsening\n",
    "import numpy as np\n",
    "import matplotlib.pyplot as plt\n",
    "%matplotlib inline"
   ]
  },
  {
   "cell_type": "code",
   "execution_count": 3,
   "metadata": {
    "collapsed": true
   },
   "outputs": [],
   "source": [
    "from data_utils import *"
   ]
  },
  {
   "cell_type": "code",
   "execution_count": 4,
   "metadata": {
    "collapsed": true
   },
   "outputs": [],
   "source": [
    "time_series_dir = '/Users/linggeli/cnn_graph/data/time_series/cup/'\n",
    "behavioral_dir = '/Users/linggeli/cnn_graph/data/fMRIbehav/cup/'"
   ]
  },
  {
   "cell_type": "code",
   "execution_count": 5,
   "metadata": {
    "collapsed": true
   },
   "outputs": [],
   "source": [
    "subject_id_list = get_subject_id(time_series_dir)"
   ]
  },
  {
   "cell_type": "code",
   "execution_count": 6,
   "metadata": {
    "collapsed": false
   },
   "outputs": [
    {
     "name": "stdout",
     "output_type": "stream",
     "text": [
      "[3748, 2330, 2132, 2085, 2091, 3416, 2046, 2250, 2292, 3198, 2286, 2047, 2090, 2084, 2127, 2133, 3777, 2119, 2131, 2086, 2079, 2290, 2253, 2247, 2050, 2078, 3399, 2124, 2118, 2336, 2120, 2134, 2108, 2295, 3821, 2256, 2243, 2294, 3411, 3377, 2096, 2109, 2121, 3029, 2323, 2309, 3003, 2137, 2123, 2080, 3822, 2296, 2241, 2255, 3638, 3360, 2081, 2122, 2136, 2334, 2192, 2025, 2185, 2191, 2152, 3476, 2032, 2026, 3648, 2231, 3107, 2027, 2033, 2153, 2190, 3932, 2180, 2194, 2143, 2157, 2023, 2235, 2221, 2209, 3103, 3102, 3116, 2234, 2022, 2036, 2156, 2142, 3062, 3060, 2197, 2154, 2140, 2020, 2237, 2223, 2021, 2169, 2141, 2196, 3075, 3087, 2170, 2164, 2038, 2004, 3130, 2206, 2212, 2213, 3643, 2005, 2165, 2171, 3051, 2173, 2239, 2210, 2006, 3481, 2166, 3720, 3283, 2189, 2162, 2176, 2016, 2002, 3137, 2003, 2017, 2177, 2188, 3043, 3096, 2149, 2001, 2203, 2216, 2028, 2148, 2160, 3040, 2113, 2098, 2067, 3190, 2259, 3191, 3344, 2106, 3218, 2304, 2310, 2338, 2104, 2110, 2058, 2070, 2064, 2299, 3811, 2272, 2266, 2273, 3804, 3186, 3838, 2071, 3409, 2059, 2105, 2139, 2313, 2307, 3021, 3586, 2115, 2075, 2277, 2263, 3626, 2262, 3801, 3430, 2074, 2114, 2100, 3587, 3008, 2316, 2300, 2328, 2116, 2102, 3220, 2062, 2076, 3354, 2260, 2249, 2275, 2261, 2088, 2117]\n"
     ]
    }
   ],
   "source": [
    "print(subject_id_list)"
   ]
  },
  {
   "cell_type": "code",
   "execution_count": null,
   "metadata": {
    "collapsed": true
   },
   "outputs": [],
   "source": [
    "N_COEF = 8"
   ]
  },
  {
   "cell_type": "code",
   "execution_count": 96,
   "metadata": {
    "collapsed": false
   },
   "outputs": [
    {
     "name": "stderr",
     "output_type": "stream",
     "text": [
      "100%|██████████| 209/209 [00:33<00:00,  6.30it/s]\n"
     ]
    }
   ],
   "source": [
    "X = get_all_features(time_series_dir, behavioral_dir, subject_id_list, \n",
    "                        n_time=64, coef_idx=range(N_COEF))\n",
    "y = get_all_labels(behavioral_dir, subject_id_list) - 1"
   ]
  },
  {
   "cell_type": "code",
   "execution_count": 97,
   "metadata": {
    "collapsed": false
   },
   "outputs": [
    {
     "name": "stdout",
     "output_type": "stream",
     "text": [
      "(836, 375, 8)\n",
      "(836,)\n"
     ]
    }
   ],
   "source": [
    "print(X.shape)\n",
    "print(y.shape)"
   ]
  },
  {
   "cell_type": "code",
   "execution_count": 57,
   "metadata": {
    "collapsed": false
   },
   "outputs": [
    {
     "name": "stdout",
     "output_type": "stream",
     "text": [
      "(836, 100, 8)\n"
     ]
    }
   ],
   "source": [
    "X = X[:, :100, :]\n",
    "print(X.shape)"
   ]
  },
  {
   "cell_type": "code",
   "execution_count": 58,
   "metadata": {
    "collapsed": true
   },
   "outputs": [],
   "source": [
    "n_train = 500\n",
    "n_val =  200\n",
    "\n",
    "indices = np.random.permutation(X.shape[0])\n",
    "\n",
    "X_train = X[indices[:n_train]]\n",
    "X_val   = X[indices[n_train:n_train+n_val]]\n",
    "X_test  = X[indices[n_train+n_val:]]\n",
    "\n",
    "y_train = y[indices[:n_train]]\n",
    "y_val   = y[indices[n_train:n_train+n_val]]\n",
    "y_test  = y[indices[n_train+n_val:]]"
   ]
  },
  {
   "cell_type": "code",
   "execution_count": 59,
   "metadata": {
    "collapsed": true
   },
   "outputs": [],
   "source": [
    "from sklearn import preprocessing\n",
    "from sklearn.linear_model import LogisticRegression"
   ]
  },
  {
   "cell_type": "code",
   "execution_count": 60,
   "metadata": {
    "collapsed": false
   },
   "outputs": [],
   "source": [
    "X_vec = X.reshape((X.shape[0], X.shape[1] * N_COEF))\n",
    "#X_vec = preprocessing.scale(X_vec)\n",
    "X_train_vec = X_vec[indices[:n_train]]\n",
    "X_val_vec   = X_vec[indices[n_train:n_train+n_val]]\n",
    "X_test_vec  = X_vec[indices[n_train+n_val:]]"
   ]
  },
  {
   "cell_type": "code",
   "execution_count": 61,
   "metadata": {
    "collapsed": true
   },
   "outputs": [],
   "source": [
    "model = LogisticRegression(penalty='l1', C=0.1)"
   ]
  },
  {
   "cell_type": "code",
   "execution_count": 62,
   "metadata": {
    "collapsed": false
   },
   "outputs": [
    {
     "data": {
      "text/plain": [
       "LogisticRegression(C=0.1, class_weight=None, dual=False, fit_intercept=True,\n",
       "          intercept_scaling=1, max_iter=100, multi_class='ovr', n_jobs=1,\n",
       "          penalty='l1', random_state=None, solver='liblinear', tol=0.0001,\n",
       "          verbose=0, warm_start=False)"
      ]
     },
     "execution_count": 62,
     "metadata": {},
     "output_type": "execute_result"
    }
   ],
   "source": [
    "model.fit(X_train_vec, y_train)"
   ]
  },
  {
   "cell_type": "code",
   "execution_count": 63,
   "metadata": {
    "collapsed": false
   },
   "outputs": [
    {
     "name": "stdout",
     "output_type": "stream",
     "text": [
      "0.6\n"
     ]
    }
   ],
   "source": [
    "y_hat = model.predict(X_val_vec)\n",
    "print(np.mean(y_hat == y_val))"
   ]
  },
  {
   "cell_type": "code",
   "execution_count": 64,
   "metadata": {
    "collapsed": true
   },
   "outputs": [],
   "source": [
    "from scipy import sparse"
   ]
  },
  {
   "cell_type": "code",
   "execution_count": 65,
   "metadata": {
    "collapsed": false
   },
   "outputs": [
    {
     "name": "stdout",
     "output_type": "stream",
     "text": [
      "(375, 375)\n"
     ]
    }
   ],
   "source": [
    "adj_matrix = np.genfromtxt('/Users/linggeli/cnn_graph/fmri/adj_matrix.csv', delimiter=',')\n",
    "adj_matrix[np.isnan(adj_matrix)] = 0\n",
    "print(adj_matrix.shape)"
   ]
  },
  {
   "cell_type": "code",
   "execution_count": 66,
   "metadata": {
    "collapsed": false
   },
   "outputs": [
    {
     "data": {
      "image/png": "[encoded data removed]",
      "text/plain": [
       "<Figure size 432x288 with 1 Axes>"
      ]
     },
     "metadata": {
      "needs_background": "light"
     },
     "output_type": "display_data"
    }
   ],
   "source": [
    "plt.hist(adj_matrix.flatten(), bins=50)\n",
    "plt.show()"
   ]
  },
  {
   "cell_type": "code",
   "execution_count": 67,
   "metadata": {
    "collapsed": true
   },
   "outputs": [],
   "source": [
    "THRES = 0.8"
   ]
  },
  {
   "cell_type": "code",
   "execution_count": 68,
   "metadata": {
    "collapsed": false
   },
   "outputs": [
    {
     "data": {
      "image/png": "[encoded data removed]",
      "text/plain": [
       "<Figure size 432x288 with 1 Axes>"
      ]
     },
     "metadata": {
      "needs_background": "light"
     },
     "output_type": "display_data"
    }
   ],
   "source": [
    "A = adj_matrix.copy()\n",
    "A = A[:100, :100]\n",
    "A[A < THRES] = 0\n",
    "A = sparse.csr_matrix(A).astype(np.float32)\n",
    "plt.spy(A, markersize=2, color='black')\n",
    "plt.show()"
   ]
  },
  {
   "cell_type": "code",
   "execution_count": 69,
   "metadata": {
    "collapsed": false
   },
   "outputs": [
    {
     "name": "stdout",
     "output_type": "stream",
     "text": [
      "Layer 0: M_0 = |V| = 104 nodes (4 added),|E| = 970 edges\n",
      "Layer 1: M_1 = |V| = 52 nodes (1 added),|E| = 416 edges\n",
      "Layer 2: M_2 = |V| = 26 nodes (0 added),|E| = 149 edges\n",
      "Layer 3: M_3 = |V| = 13 nodes (0 added),|E| = 53 edges\n"
     ]
    }
   ],
   "source": [
    "graphs, perm = coarsening.coarsen(A, levels=3, self_connections=False)"
   ]
  },
  {
   "cell_type": "code",
   "execution_count": 70,
   "metadata": {
    "collapsed": false
   },
   "outputs": [],
   "source": [
    "L = [graph.laplacian(A, normalized=True) for A in graphs]"
   ]
  },
  {
   "cell_type": "code",
   "execution_count": 71,
   "metadata": {
    "collapsed": true
   },
   "outputs": [],
   "source": [
    "X_train_list = []\n",
    "X_val_list = []\n",
    "X_test_list = []\n",
    "for i in range(N_COEF):\n",
    "    X_train_list.append(coarsening.perm_data(X_train[:, :, i], perm))\n",
    "    X_val_list.append(coarsening.perm_data(X_val[:, :, i], perm))\n",
    "    X_test_list.append(coarsening.perm_data(X_test[:, :, i], perm))\n",
    "\n",
    "X_train_perm = np.stack(X_train_list, axis=-1)\n",
    "X_val_perm = np.stack(X_val_list, axis=-1)\n",
    "X_test_perm = np.stack(X_test_list, axis=-1)"
   ]
  },
  {
   "cell_type": "code",
   "execution_count": 72,
   "metadata": {
    "collapsed": true
   },
   "outputs": [],
   "source": [
    "from fmri.graph_models import multi_cgcnn"
   ]
  },
  {
   "cell_type": "code",
   "execution_count": 92,
   "metadata": {
    "collapsed": true
   },
   "outputs": [],
   "source": [
    "N_FILTER = 10\n",
    "DENSE_SIZE = 10"
   ]
  },
  {
   "cell_type": "code",
   "execution_count": 93,
   "metadata": {
    "collapsed": false
   },
   "outputs": [],
   "source": [
    "params = dict()\n",
    "params['dir_name']       = 'demo'\n",
    "params['num_epochs']     = 200\n",
    "params['batch_size']     = 20\n",
    "params['eval_frequency'] = 1000\n",
    "\n",
    "# Building blocks.\n",
    "params['filter']         = 'chebyshev5'\n",
    "params['brelu']          = 'b1relu'\n",
    "params['pool']           = 'apool1'\n",
    "\n",
    "# Number of classes.\n",
    "C = y.max() + 1\n",
    "assert C == np.unique(y).size\n",
    "\n",
    "# Architecture.\n",
    "params['F']              = [N_FILTER, N_FILTER]  # Number of graph convolutional filters.\n",
    "params['K']              = [20, 20]  # Polynomial orders.\n",
    "params['p']              = [4, 2]    # Pooling sizes.\n",
    "params['M']              = [DENSE_SIZE, C]  # Output dimensionality of fully connected layers.\n",
    "\n",
    "# Optimization.\n",
    "params['regularization'] = 5e-4\n",
    "params['dropout']        = 1\n",
    "params['learning_rate']  = 1e-3\n",
    "params['decay_rate']     = 0.95\n",
    "params['momentum']       = 0.9\n",
    "params['decay_steps']    = n_train / params['batch_size']\n",
    "\n",
    "params['n_graph'] = N_COEF"
   ]
  },
  {
   "cell_type": "code",
   "execution_count": 94,
   "metadata": {
    "collapsed": false
   },
   "outputs": [
    {
     "name": "stdout",
     "output_type": "stream",
     "text": [
      "NN architecture\n",
      "  input: M_0 = 104\n",
      "  layer 1: cgconv1\n",
      "    representation: M_0 * F_1 / p_1 = 104 * 10 / 4 = 260\n",
      "    weights: F_0 * F_1 * K_1 = 1 * 10 * 20 = 200\n",
      "    biases: F_1 = 10\n",
      "  layer 2: cgconv2\n",
      "    representation: M_1 * F_2 / p_2 = 26 * 10 / 2 = 130\n",
      "    weights: F_1 * F_2 * K_2 = 10 * 10 * 20 = 2000\n",
      "    biases: F_2 = 10\n",
      "  layer 3: fc1\n",
      "    representation: M_3 = 10\n",
      "    weights: M_2 * M_3 = 130 * 10 = 1300\n",
      "    biases: M_3 = 10\n",
      "  layer 4: logits (softmax)\n",
      "    representation: M_4 = 2.0\n",
      "    weights: M_3 * M_4 = 10 * 2.0 = 20.0\n",
      "    biases: M_4 = 2.0\n"
     ]
    }
   ],
   "source": [
    "model = multi_cgcnn(L, **params)"
   ]
  },
  {
   "cell_type": "code",
   "execution_count": 95,
   "metadata": {
    "collapsed": false
   },
   "outputs": [
    {
     "name": "stdout",
     "output_type": "stream",
     "text": [
      "step 1000 / 5000 (epoch 40.00 / 200):\n",
      "  learning_rate = 1.35e-04, loss_average = 6.26e-01\n",
      "  validation accuracy: 61.00 (122 / 200), f1 (weighted): 60.61, loss: 6.72e-01\n",
      "  time: 183s (wall 55s)\n",
      "step 2000 / 5000 (epoch 80.00 / 200):\n",
      "  learning_rate = 1.74e-05, loss_average = 6.07e-01\n",
      "  validation accuracy: 64.00 (128 / 200), f1 (weighted): 63.94, loss: 6.69e-01\n",
      "  time: 364s (wall 110s)\n",
      "step 3000 / 5000 (epoch 120.00 / 200):\n",
      "  learning_rate = 2.23e-06, loss_average = 6.16e-01\n",
      "  validation accuracy: 64.50 (129 / 200), f1 (weighted): 64.43, loss: 6.69e-01\n",
      "  time: 545s (wall 165s)\n",
      "step 4000 / 5000 (epoch 160.00 / 200):\n",
      "  learning_rate = 2.87e-07, loss_average = 6.03e-01\n",
      "  validation accuracy: 64.50 (129 / 200), f1 (weighted): 64.43, loss: 6.69e-01\n",
      "  time: 727s (wall 221s)\n",
      "step 5000 / 5000 (epoch 200.00 / 200):\n",
      "  learning_rate = 3.69e-08, loss_average = 6.02e-01\n",
      "  validation accuracy: 64.50 (129 / 200), f1 (weighted): 64.43, loss: 6.69e-01\n",
      "  time: 906s (wall 274s)\n",
      "validation accuracy: peak = 64.50, mean = 63.70\n"
     ]
    }
   ],
   "source": [
    "accuracy, loss, t_step = model.fit(X_train_perm, y_train, X_val_perm, y_val)"
   ]
  },
  {
   "cell_type": "code",
   "execution_count": null,
   "metadata": {
    "collapsed": true
   },
   "outputs": [],
   "source": []
  }
 ],
 "metadata": {
  "anaconda-cloud": {},
  "kernelspec": {
   "display_name": "Python [conda env:graphcnn]",
   "language": "python",
   "name": "conda-env-graphcnn-py"
  },
  "language_info": {
   "codemirror_mode": {
    "name": "ipython",
    "version": 3
   },
   "file_extension": ".py",
   "mimetype": "text/x-python",
   "name": "python",
   "nbconvert_exporter": "python",
   "pygments_lexer": "ipython3",
   "version": "3.5.6"
  }
 },
 "nbformat": 4,
 "nbformat_minor": 1
}
