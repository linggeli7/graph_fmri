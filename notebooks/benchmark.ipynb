{
 "cells": [
  {
   "cell_type": "code",
   "execution_count": 1,
   "metadata": {
    "collapsed": true
   },
   "outputs": [],
   "source": [
    "import os\n",
    "import sys\n",
    "module_path = os.path.abspath(os.path.join('..'))\n",
    "if module_path not in sys.path:\n",
    "    sys.path.append(module_path)"
   ]
  },
  {
   "cell_type": "code",
   "execution_count": 2,
   "metadata": {
    "collapsed": true
   },
   "outputs": [],
   "source": [
    "import numpy as np\n",
    "import matplotlib.pyplot as plt\n",
    "%matplotlib inline"
   ]
  },
  {
   "cell_type": "code",
   "execution_count": 3,
   "metadata": {
    "collapsed": false
   },
   "outputs": [
    {
     "name": "stderr",
     "output_type": "stream",
     "text": [
      "Using TensorFlow backend.\n"
     ]
    }
   ],
   "source": [
    "from data_utils import *\n",
    "from other_models import *"
   ]
  },
  {
   "cell_type": "code",
   "execution_count": 63,
   "metadata": {
    "collapsed": true
   },
   "outputs": [],
   "source": [
    "n_coef = 16"
   ]
  },
  {
   "cell_type": "code",
   "execution_count": 64,
   "metadata": {
    "collapsed": false
   },
   "outputs": [],
   "source": [
    "X = np.load('/Users/linggeli/cnn_graph/fmri/clas_data/X_259sub_40reg_16coef.npy')[:, :, :n_coef]\n",
    "y = np.load('/Users/linggeli/cnn_graph/fmri/clas_data/y_259sub.npy')"
   ]
  },
  {
   "cell_type": "code",
   "execution_count": 65,
   "metadata": {
    "collapsed": false
   },
   "outputs": [
    {
     "name": "stdout",
     "output_type": "stream",
     "text": [
      "(1036, 40, 16)\n",
      "(1036,)\n"
     ]
    }
   ],
   "source": [
    "print(X.shape)\n",
    "print(y.shape)"
   ]
  },
  {
   "cell_type": "code",
   "execution_count": 66,
   "metadata": {
    "collapsed": true
   },
   "outputs": [],
   "source": [
    "n_train = 700\n",
    "n_val = 300\n",
    "\n",
    "np.random.seed(0)\n",
    "indices = np.random.permutation(X.shape[0])"
   ]
  },
  {
   "cell_type": "code",
   "execution_count": 67,
   "metadata": {
    "collapsed": true
   },
   "outputs": [],
   "source": [
    "X_train = X[indices[:n_train]]\n",
    "X_val   = X[indices[n_train:n_train+n_val]]\n",
    "X_test  = X[indices[n_train+n_val:]]\n",
    "\n",
    "y_train = y[indices[:n_train]]\n",
    "y_val   = y[indices[n_train:n_train+n_val]]\n",
    "y_test  = y[indices[n_train+n_val:]]"
   ]
  },
  {
   "cell_type": "code",
   "execution_count": 68,
   "metadata": {
    "collapsed": true
   },
   "outputs": [],
   "source": [
    "from sklearn import preprocessing"
   ]
  },
  {
   "cell_type": "code",
   "execution_count": 69,
   "metadata": {
    "collapsed": false
   },
   "outputs": [],
   "source": [
    "X_vec = X.reshape((X.shape[0], X.shape[1] * X.shape[2]))\n",
    "X_vec = preprocessing.scale(X_vec)\n",
    "X_train_vec = X_vec[indices[:n_train]]\n",
    "X_val_vec   = X_vec[indices[n_train:n_train+n_val]]\n",
    "X_test_vec  = X_vec[indices[n_train+n_val:]]"
   ]
  },
  {
   "cell_type": "code",
   "execution_count": 77,
   "metadata": {
    "collapsed": false
   },
   "outputs": [
    {
     "name": "stdout",
     "output_type": "stream",
     "text": [
      "(700, 640)\n"
     ]
    }
   ],
   "source": [
    "print(X_train_vec.shape)"
   ]
  },
  {
   "cell_type": "code",
   "execution_count": 71,
   "metadata": {
    "collapsed": true
   },
   "outputs": [],
   "source": [
    "model = LogisticRegressionCV(cv=5, penalty='l1', solver='liblinear')"
   ]
  },
  {
   "cell_type": "code",
   "execution_count": 72,
   "metadata": {
    "collapsed": false
   },
   "outputs": [
    {
     "data": {
      "text/plain": [
       "LogisticRegressionCV(Cs=10, class_weight=None, cv=5, dual=False,\n",
       "           fit_intercept=True, intercept_scaling=1.0, max_iter=100,\n",
       "           multi_class='ovr', n_jobs=1, penalty='l1', random_state=None,\n",
       "           refit=True, scoring=None, solver='liblinear', tol=0.0001,\n",
       "           verbose=0)"
      ]
     },
     "execution_count": 72,
     "metadata": {},
     "output_type": "execute_result"
    }
   ],
   "source": [
    "model.fit(X_train_vec, y_train)"
   ]
  },
  {
   "cell_type": "code",
   "execution_count": 78,
   "metadata": {
    "collapsed": false
   },
   "outputs": [
    {
     "name": "stdout",
     "output_type": "stream",
     "text": [
      "0.3593813663804626\n"
     ]
    }
   ],
   "source": [
    "print(model.C_[0])"
   ]
  },
  {
   "cell_type": "code",
   "execution_count": 79,
   "metadata": {
    "collapsed": false
   },
   "outputs": [
    {
     "name": "stdout",
     "output_type": "stream",
     "text": [
      "0.5666666666666667\n"
     ]
    }
   ],
   "source": [
    "y_hat = model.predict(X_val_vec)\n",
    "print(np.mean(y_hat == y_val))"
   ]
  },
  {
   "cell_type": "code",
   "execution_count": 80,
   "metadata": {
    "collapsed": false
   },
   "outputs": [],
   "source": [
    "from keras.models import Sequential\n",
    "from keras.layers import Dense, Dropout"
   ]
  },
  {
   "cell_type": "code",
   "execution_count": 81,
   "metadata": {
    "collapsed": false
   },
   "outputs": [
    {
     "name": "stdout",
     "output_type": "stream",
     "text": [
      "_________________________________________________________________\n",
      "Layer (type)                 Output Shape              Param #   \n",
      "=================================================================\n",
      "dense_31 (Dense)             (None, 200)               128200    \n",
      "_________________________________________________________________\n",
      "dense_32 (Dense)             (None, 40)                8040      \n",
      "_________________________________________________________________\n",
      "dense_33 (Dense)             (None, 20)                820       \n",
      "_________________________________________________________________\n",
      "dropout_15 (Dropout)         (None, 20)                0         \n",
      "_________________________________________________________________\n",
      "dense_34 (Dense)             (None, 1)                 21        \n",
      "=================================================================\n",
      "Total params: 137,081\n",
      "Trainable params: 137,081\n",
      "Non-trainable params: 0\n",
      "_________________________________________________________________\n"
     ]
    }
   ],
   "source": [
    "model = Sequential()\n",
    "model.add(Dense(200, input_shape=(X_train_vec.shape[1],), activation='relu'))\n",
    "model.add(Dense(40, activation='relu'))\n",
    "model.add(Dense(20, activation='relu'))\n",
    "model.add(Dropout(0.1))\n",
    "model.add(Dense(1, activation='sigmoid'))\n",
    "model.summary()"
   ]
  },
  {
   "cell_type": "code",
   "execution_count": 82,
   "metadata": {
    "collapsed": true
   },
   "outputs": [],
   "source": [
    "model.compile(optimizer='adam',\n",
    "              loss='binary_crossentropy',\n",
    "              metrics=['accuracy'])"
   ]
  },
  {
   "cell_type": "code",
   "execution_count": 83,
   "metadata": {
    "collapsed": false
   },
   "outputs": [
    {
     "name": "stdout",
     "output_type": "stream",
     "text": [
      "Train on 700 samples, validate on 300 samples\n",
      "Epoch 1/10\n",
      "700/700 [==============================] - 1s 1ms/step - loss: 0.7220 - acc: 0.5200 - val_loss: 0.6715 - val_acc: 0.5733\n",
      "Epoch 2/10\n",
      "700/700 [==============================] - 0s 87us/step - loss: 0.6029 - acc: 0.7071 - val_loss: 0.6661 - val_acc: 0.5867\n",
      "Epoch 3/10\n",
      "700/700 [==============================] - 0s 94us/step - loss: 0.5246 - acc: 0.8029 - val_loss: 0.6615 - val_acc: 0.6067\n",
      "Epoch 4/10\n",
      "700/700 [==============================] - 0s 127us/step - loss: 0.4434 - acc: 0.8543 - val_loss: 0.6775 - val_acc: 0.6033\n",
      "Epoch 5/10\n",
      "700/700 [==============================] - 0s 86us/step - loss: 0.3622 - acc: 0.8657 - val_loss: 0.6923 - val_acc: 0.6133\n",
      "Epoch 6/10\n",
      "700/700 [==============================] - 0s 104us/step - loss: 0.2994 - acc: 0.8886 - val_loss: 0.7120 - val_acc: 0.5900\n",
      "Epoch 7/10\n",
      "700/700 [==============================] - 0s 181us/step - loss: 0.2533 - acc: 0.8914 - val_loss: 0.7738 - val_acc: 0.6033\n",
      "Epoch 8/10\n",
      "700/700 [==============================] - 0s 126us/step - loss: 0.2069 - acc: 0.9086 - val_loss: 0.8226 - val_acc: 0.6100\n",
      "Epoch 9/10\n",
      "700/700 [==============================] - 0s 85us/step - loss: 0.1876 - acc: 0.8929 - val_loss: 0.8701 - val_acc: 0.6033\n",
      "Epoch 10/10\n",
      "700/700 [==============================] - 0s 115us/step - loss: 0.1722 - acc: 0.9086 - val_loss: 0.9297 - val_acc: 0.5967\n"
     ]
    }
   ],
   "source": [
    "hist = model.fit(X_train_vec, y_train, batch_size=100, epochs=10, validation_data=(X_val_vec, y_val))"
   ]
  },
  {
   "cell_type": "code",
   "execution_count": 84,
   "metadata": {
    "collapsed": false
   },
   "outputs": [
    {
     "name": "stdout",
     "output_type": "stream",
     "text": [
      "(300,)\n"
     ]
    }
   ],
   "source": [
    "y_hat = model.predict(X_val_vec)[:, 0]\n",
    "print(y_hat.shape)"
   ]
  },
  {
   "cell_type": "code",
   "execution_count": 85,
   "metadata": {
    "collapsed": true
   },
   "outputs": [],
   "source": [
    "from keras import Model\n",
    "from keras.layers import Conv2D, MaxPooling2D, Input, Flatten, AveragePooling2D"
   ]
  },
  {
   "cell_type": "code",
   "execution_count": 89,
   "metadata": {
    "collapsed": true
   },
   "outputs": [],
   "source": [
    "n_filter = 10\n",
    "filter_size = 4\n",
    "dense_size = 40"
   ]
  },
  {
   "cell_type": "code",
   "execution_count": 90,
   "metadata": {
    "collapsed": false
   },
   "outputs": [
    {
     "name": "stdout",
     "output_type": "stream",
     "text": [
      "_________________________________________________________________\n",
      "Layer (type)                 Output Shape              Param #   \n",
      "=================================================================\n",
      "input_16 (InputLayer)        (None, 40, 16, 1)         0         \n",
      "_________________________________________________________________\n",
      "conv2d_23 (Conv2D)           (None, 40, 16, 10)        170       \n",
      "_________________________________________________________________\n",
      "average_pooling2d_22 (Averag (None, 10, 4, 10)         0         \n",
      "_________________________________________________________________\n",
      "flatten_16 (Flatten)         (None, 400)               0         \n",
      "_________________________________________________________________\n",
      "dense_39 (Dense)             (None, 40)                16040     \n",
      "_________________________________________________________________\n",
      "dropout_18 (Dropout)         (None, 40)                0         \n",
      "_________________________________________________________________\n",
      "dense_40 (Dense)             (None, 1)                 41        \n",
      "=================================================================\n",
      "Total params: 16,251\n",
      "Trainable params: 16,251\n",
      "Non-trainable params: 0\n",
      "_________________________________________________________________\n"
     ]
    }
   ],
   "source": [
    "input_image = Input(shape=(40, 16, 1))\n",
    "x = Conv2D(n_filter, (filter_size, filter_size), padding='same', activation='relu')(input_image)\n",
    "x = AveragePooling2D((filter_size, filter_size))(x)\n",
    "x = Flatten()(x)\n",
    "x = Dense(dense_size, activation='relu')(x)\n",
    "x = Dropout(0.1)(x)\n",
    "y = Dense(1, activation='sigmoid')(x)\n",
    "conv_model = Model(input_image, y)\n",
    "conv_model.summary()"
   ]
  },
  {
   "cell_type": "code",
   "execution_count": 91,
   "metadata": {
    "collapsed": true
   },
   "outputs": [],
   "source": [
    "conv_model.compile(optimizer='adam',\n",
    "              loss='binary_crossentropy',\n",
    "              metrics=['accuracy'])"
   ]
  },
  {
   "cell_type": "code",
   "execution_count": 92,
   "metadata": {
    "collapsed": true
   },
   "outputs": [],
   "source": [
    "X_train = (X_train - np.mean(X)) / np.std(X)\n",
    "X_val = (X_val - np.mean(X)) / np.std(X)\n",
    "X_train_image = np.expand_dims(X_train, axis=-1)\n",
    "X_val_image = np.expand_dims(X_val, axis=-1)"
   ]
  },
  {
   "cell_type": "code",
   "execution_count": 93,
   "metadata": {
    "collapsed": false
   },
   "outputs": [
    {
     "name": "stdout",
     "output_type": "stream",
     "text": [
      "Train on 700 samples, validate on 300 samples\n",
      "Epoch 1/10\n",
      "700/700 [==============================] - 1s 2ms/step - loss: 0.6945 - acc: 0.5171 - val_loss: 0.6876 - val_acc: 0.5700\n",
      "Epoch 2/10\n",
      "700/700 [==============================] - 0s 321us/step - loss: 0.6840 - acc: 0.5543 - val_loss: 0.6902 - val_acc: 0.5067\n",
      "Epoch 3/10\n",
      "700/700 [==============================] - 0s 327us/step - loss: 0.6798 - acc: 0.5871 - val_loss: 0.6826 - val_acc: 0.5733\n",
      "Epoch 4/10\n",
      "700/700 [==============================] - 0s 329us/step - loss: 0.6753 - acc: 0.5786 - val_loss: 0.6801 - val_acc: 0.5833\n",
      "Epoch 5/10\n",
      "700/700 [==============================] - 0s 312us/step - loss: 0.6701 - acc: 0.5929 - val_loss: 0.6820 - val_acc: 0.5700\n",
      "Epoch 6/10\n",
      "700/700 [==============================] - 0s 314us/step - loss: 0.6685 - acc: 0.6000 - val_loss: 0.6798 - val_acc: 0.5667\n",
      "Epoch 7/10\n",
      "700/700 [==============================] - 0s 309us/step - loss: 0.6691 - acc: 0.6100 - val_loss: 0.6775 - val_acc: 0.5933\n",
      "Epoch 8/10\n",
      "700/700 [==============================] - 0s 509us/step - loss: 0.6587 - acc: 0.6171 - val_loss: 0.6797 - val_acc: 0.5867\n",
      "Epoch 9/10\n",
      "700/700 [==============================] - 0s 331us/step - loss: 0.6512 - acc: 0.6214 - val_loss: 0.6822 - val_acc: 0.5700\n",
      "Epoch 10/10\n",
      "700/700 [==============================] - 0s 338us/step - loss: 0.6497 - acc: 0.6086 - val_loss: 0.6784 - val_acc: 0.5733\n"
     ]
    },
    {
     "data": {
      "text/plain": [
       "<keras.callbacks.History at 0x122542f98>"
      ]
     },
     "execution_count": 93,
     "metadata": {},
     "output_type": "execute_result"
    }
   ],
   "source": [
    "conv_model.fit(X_train_image, y_train, batch_size=100, epochs=10, verbose=1, validation_data=(X_val_image, y_val))"
   ]
  },
  {
   "cell_type": "code",
   "execution_count": 94,
   "metadata": {
    "collapsed": true
   },
   "outputs": [],
   "source": [
    "from sklearn.metrics import roc_curve, auc"
   ]
  },
  {
   "cell_type": "code",
   "execution_count": 95,
   "metadata": {
    "collapsed": false
   },
   "outputs": [
    {
     "name": "stdout",
     "output_type": "stream",
     "text": [
      "0.6451698985945561\n"
     ]
    }
   ],
   "source": [
    "fpr, tpr, _ = roc_curve(y_val, y_hat)\n",
    "roc_auc = auc(fpr, tpr)\n",
    "print(roc_auc)"
   ]
  },
  {
   "cell_type": "code",
   "execution_count": 96,
   "metadata": {
    "collapsed": false
   },
   "outputs": [
    {
     "data": {
      "text/plain": [
       "Text(0,0.5,'True Positive Rate')"
      ]
     },
     "execution_count": 96,
     "metadata": {},
     "output_type": "execute_result"
    },
    {
     "data": {
      "image/png": "[encoded data removed]",
      "text/plain": [
       "<Figure size 432x288 with 1 Axes>"
      ]
     },
     "metadata": {
      "needs_background": "light"
     },
     "output_type": "display_data"
    }
   ],
   "source": [
    "plt.figure()\n",
    "plt.plot(fpr, tpr, color='darkorange', label='')\n",
    "plt.plot([0, 1], [0, 1], color='navy', linestyle='--')\n",
    "plt.xlim([0.0, 1.0])\n",
    "plt.ylim([0.0, 1.05])\n",
    "plt.xlabel('False Positive Rate')\n",
    "plt.ylabel('True Positive Rate')"
   ]
  },
  {
   "cell_type": "code",
   "execution_count": null,
   "metadata": {
    "collapsed": true
   },
   "outputs": [],
   "source": []
  }
 ],
 "metadata": {
  "anaconda-cloud": {},
  "kernelspec": {
   "display_name": "Python [conda env:graphcnn]",
   "language": "python",
   "name": "conda-env-graphcnn-py"
  },
  "language_info": {
   "codemirror_mode": {
    "name": "ipython",
    "version": 3
   },
   "file_extension": ".py",
   "mimetype": "text/x-python",
   "name": "python",
   "nbconvert_exporter": "python",
   "pygments_lexer": "ipython3",
   "version": "3.5.6"
  }
 },
 "nbformat": 4,
 "nbformat_minor": 1
}
