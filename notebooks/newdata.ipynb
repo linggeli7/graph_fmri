{
 "cells": [
  {
   "cell_type": "code",
   "execution_count": 1,
   "metadata": {
    "collapsed": true
   },
   "outputs": [],
   "source": [
    "import numpy as np\n",
    "import matplotlib\n",
    "matplotlib.use('Agg')\n",
    "import matplotlib.pyplot as plt\n",
    "%matplotlib inline"
   ]
  },
  {
   "cell_type": "code",
   "execution_count": 2,
   "metadata": {
    "collapsed": true
   },
   "outputs": [],
   "source": [
    "import os"
   ]
  },
  {
   "cell_type": "code",
   "execution_count": 3,
   "metadata": {
    "collapsed": true
   },
   "outputs": [],
   "source": [
    "subject_data = np.genfromtxt('/Users/linggeli/cnn_graph/data/dat/SUB2001_cup_preproc.csv', delimiter=',')"
   ]
  },
  {
   "cell_type": "code",
   "execution_count": 4,
   "metadata": {
    "collapsed": false
   },
   "outputs": [
    {
     "data": {
      "text/plain": [
       "(100981, 2)"
      ]
     },
     "execution_count": 4,
     "metadata": {},
     "output_type": "execute_result"
    }
   ],
   "source": [
    "subject_data.shape"
   ]
  },
  {
   "cell_type": "code",
   "execution_count": 5,
   "metadata": {
    "collapsed": false
   },
   "outputs": [
    {
     "data": {
      "text/plain": [
       "array([       nan,        nan, 1.27634868, ..., 0.8986297 , 0.09553765,\n",
       "              nan])"
      ]
     },
     "execution_count": 5,
     "metadata": {},
     "output_type": "execute_result"
    }
   ],
   "source": [
    "subject_data[:, 1]"
   ]
  },
  {
   "cell_type": "code",
   "execution_count": 6,
   "metadata": {
    "collapsed": false
   },
   "outputs": [
    {
     "data": {
      "text/plain": [
       "749"
      ]
     },
     "execution_count": 6,
     "metadata": {},
     "output_type": "execute_result"
    }
   ],
   "source": [
    "np.sum(np.isnan(subject_data[:, 1]))"
   ]
  },
  {
   "cell_type": "code",
   "execution_count": 23,
   "metadata": {
    "collapsed": false
   },
   "outputs": [],
   "source": [
    "def load_time_series_new(new_data_dir, subject_id):\n",
    "    subject_data = np.genfromtxt(os.path.join(new_data_dir, 'SUB{}_cup_preproc.csv'.format(subject_id)), delimiter=',')\n",
    "    time_series_data = np.zeros((375, 290))\n",
    "    for i in range(375):\n",
    "        select = subject_data[:, 0] == i\n",
    "        current_time_series = subject_data[select, 1]\n",
    "        n_time = current_time_series.shape[0]\n",
    "        if n_time > 0 and n_time < 270:\n",
    "            time_series_data[i, 20:(20 + n_time)] = current_time_series\n",
    "        elif n_time > 270:\n",
    "            time_series_data[i, 20:] = current_time_series[:270]\n",
    "        else:\n",
    "            continue\n",
    "    time_series_data[np.isnan(time_series_data)] = 0\n",
    "    return time_series_data"
   ]
  },
  {
   "cell_type": "code",
   "execution_count": 24,
   "metadata": {
    "collapsed": true
   },
   "outputs": [],
   "source": [
    "new_data_dir = '/Users/linggeli/cnn_graph/data/dat'"
   ]
  },
  {
   "cell_type": "code",
   "execution_count": 25,
   "metadata": {
    "collapsed": false
   },
   "outputs": [],
   "source": [
    "td = load_time_series_new('/Users/linggeli/cnn_graph/data/dat/', 2011)"
   ]
  },
  {
   "cell_type": "code",
   "execution_count": 26,
   "metadata": {
    "collapsed": false
   },
   "outputs": [
    {
     "data": {
      "text/plain": [
       "(375, 290)"
      ]
     },
     "execution_count": 26,
     "metadata": {},
     "output_type": "execute_result"
    }
   ],
   "source": [
    "td.shape"
   ]
  },
  {
   "cell_type": "code",
   "execution_count": 27,
   "metadata": {
    "collapsed": false
   },
   "outputs": [
    {
     "data": {
      "text/plain": [
       "0"
      ]
     },
     "execution_count": 27,
     "metadata": {},
     "output_type": "execute_result"
    }
   ],
   "source": [
    "np.sum(np.isnan(td))"
   ]
  },
  {
   "cell_type": "code",
   "execution_count": 28,
   "metadata": {
    "collapsed": true
   },
   "outputs": [],
   "source": [
    "def get_subject_id_new(new_data_dir):\n",
    "    new_data_files = os.listdir(new_data_dir)\n",
    "    subject_id_list = [int(x[3:7]) for x in new_data_files if x[-3:] == 'csv']\n",
    "    return subject_id_list"
   ]
  },
  {
   "cell_type": "code",
   "execution_count": 38,
   "metadata": {
    "collapsed": false
   },
   "outputs": [
    {
     "name": "stdout",
     "output_type": "stream",
     "text": [
      "[3139, 3766, 2308, 2224, 2219, 2183, 2311, 2184, 2207, 3726, 2240, 2208, 2319, 2258, 3153, 3005, 3808, 2082, 2024, 2151, 3030, 3080, 2182, 2507, 2011, 2163, 2267, 2061, 2268, 2130, 2228, 2126, 2505, 2161, 2013, 2227, 2145, 3423, 2244, 2199, 2230, 3074, 2321, 2280, 2012, 2068, 2314, 2167, 2291, 2302]\n"
     ]
    }
   ],
   "source": [
    "new_subject_id_list = get_subject_id_new(new_data_dir)\n",
    "print(new_subject_id_list)"
   ]
  },
  {
   "cell_type": "code",
   "execution_count": 34,
   "metadata": {
    "collapsed": true
   },
   "outputs": [],
   "source": [
    "def get_all_features_new(new_data_dir, behavioral_dir, subject_id_list, **kwargs):\n",
    "    all_features = []\n",
    "    for subject_id in tqdm(subject_id_list):\n",
    "        time_series_data = load_time_series_new(new_data_dir, subject_id)\n",
    "        behavioral_data = load_behavioral(behavioral_dir, 2001)  # HACK: all behavioral data are assumed to be the same\n",
    "        time_series_data = preprocess_time_series(time_series_data)\n",
    "        features = create_features(time_series_data, behavioral_data, **kwargs)\n",
    "        all_features.append(features)\n",
    "    return np.concatenate(all_features)"
   ]
  },
  {
   "cell_type": "code",
   "execution_count": 35,
   "metadata": {
    "collapsed": true
   },
   "outputs": [],
   "source": [
    "from data_utils import *"
   ]
  },
  {
   "cell_type": "code",
   "execution_count": 74,
   "metadata": {
    "collapsed": true
   },
   "outputs": [],
   "source": [
    "time_series_dir = '/Users/linggeli/cnn_graph/data/time_series/cup/'\n",
    "behavioral_dir = '/Users/linggeli/cnn_graph/data/fMRIbehav/cup/'"
   ]
  },
  {
   "cell_type": "code",
   "execution_count": 87,
   "metadata": {
    "collapsed": false
   },
   "outputs": [
    {
     "name": "stderr",
     "output_type": "stream",
     "text": [
      "100%|██████████| 50/50 [00:39<00:00,  1.26it/s]\n"
     ]
    }
   ],
   "source": [
    "new_X = get_all_features_new(new_data_dir, behavioral_dir, new_subject_id_list, n_time=64, coef_idx=range(1, 17))"
   ]
  },
  {
   "cell_type": "code",
   "execution_count": 88,
   "metadata": {
    "collapsed": false
   },
   "outputs": [],
   "source": [
    "subject_id_list = get_subject_id(time_series_dir)"
   ]
  },
  {
   "cell_type": "code",
   "execution_count": 89,
   "metadata": {
    "collapsed": false
   },
   "outputs": [
    {
     "name": "stderr",
     "output_type": "stream",
     "text": [
      "100%|██████████| 209/209 [00:31<00:00,  6.29it/s]\n"
     ]
    }
   ],
   "source": [
    "current_X = get_all_features(time_series_dir, behavioral_dir, subject_id_list, n_time=64, coef_idx=range(1, 17))"
   ]
  },
  {
   "cell_type": "code",
   "execution_count": 90,
   "metadata": {
    "collapsed": false
   },
   "outputs": [
    {
     "name": "stdout",
     "output_type": "stream",
     "text": [
      "(200, 375, 16)\n",
      "(836, 375, 16)\n"
     ]
    }
   ],
   "source": [
    "print(new_X.shape)\n",
    "print(current_X.shape)"
   ]
  },
  {
   "cell_type": "code",
   "execution_count": 91,
   "metadata": {
    "collapsed": true
   },
   "outputs": [],
   "source": [
    "X = np.concatenate([new_X, current_X], axis=0)"
   ]
  },
  {
   "cell_type": "code",
   "execution_count": 92,
   "metadata": {
    "collapsed": true
   },
   "outputs": [],
   "source": [
    "unit_y = (get_all_labels(behavioral_dir, [2001]) - 1).astype(int)\n",
    "y = np.tile(unit_y, int((new_X.shape[0] + current_X.shape[0]) / 4))"
   ]
  },
  {
   "cell_type": "code",
   "execution_count": 93,
   "metadata": {
    "collapsed": false
   },
   "outputs": [
    {
     "name": "stdout",
     "output_type": "stream",
     "text": [
      "(1036, 375, 16)\n",
      "(1036,)\n"
     ]
    }
   ],
   "source": [
    "print(X.shape)\n",
    "print(y.shape)"
   ]
  },
  {
   "cell_type": "code",
   "execution_count": 94,
   "metadata": {
    "collapsed": true
   },
   "outputs": [],
   "source": [
    "brain_regions = np.genfromtxt('/Users/linggeli/cnn_graph/data/brain_regions.csv', dtype=int, delimiter=',')[:40] - 1"
   ]
  },
  {
   "cell_type": "code",
   "execution_count": 95,
   "metadata": {
    "collapsed": false
   },
   "outputs": [
    {
     "name": "stdout",
     "output_type": "stream",
     "text": [
      "(1036, 40, 16)\n"
     ]
    }
   ],
   "source": [
    "X = X[:, brain_regions, :]\n",
    "print(X.shape)"
   ]
  },
  {
   "cell_type": "code",
   "execution_count": 96,
   "metadata": {
    "collapsed": true
   },
   "outputs": [],
   "source": [
    "np.save('X_259sub_40reg_16coef.npy', X)\n",
    "np.save('y_259sub.npy', y)"
   ]
  },
  {
   "cell_type": "code",
   "execution_count": null,
   "metadata": {
    "collapsed": true
   },
   "outputs": [],
   "source": []
  }
 ],
 "metadata": {
  "anaconda-cloud": {},
  "kernelspec": {
   "display_name": "Python [conda env:graphcnn]",
   "language": "python",
   "name": "conda-env-graphcnn-py"
  },
  "language_info": {
   "codemirror_mode": {
    "name": "ipython",
    "version": 3
   },
   "file_extension": ".py",
   "mimetype": "text/x-python",
   "name": "python",
   "nbconvert_exporter": "python",
   "pygments_lexer": "ipython3",
   "version": "3.5.6"
  }
 },
 "nbformat": 4,
 "nbformat_minor": 1
}
