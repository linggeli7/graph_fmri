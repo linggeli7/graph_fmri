{
 "cells": [
  {
   "cell_type": "code",
   "execution_count": 1,
   "metadata": {
    "collapsed": true
   },
   "outputs": [],
   "source": [
    "import sys\n",
    "sys.path.append('/Users/linggeli/graph_fmri/')"
   ]
  },
  {
   "cell_type": "code",
   "execution_count": 2,
   "metadata": {
    "collapsed": false
   },
   "outputs": [],
   "source": [
    "import numpy as np\n",
    "import matplotlib.pyplot as plt\n",
    "%matplotlib inline"
   ]
  },
  {
   "cell_type": "code",
   "execution_count": 3,
   "metadata": {
    "collapsed": true
   },
   "outputs": [],
   "source": [
    "from graph_fmri.cnn_graph import models, graph, coarsening\n",
    "from graph_fmri.src.helper import prepare_data"
   ]
  },
  {
   "cell_type": "code",
   "execution_count": 4,
   "metadata": {
    "collapsed": true
   },
   "outputs": [],
   "source": [
    "X_path = '/Users/linggeli/graph_fmri/clas_data/features_259subjects_filtered.npy'\n",
    "y_path = '/Users/linggeli/graph_fmri/clas_data/labels_259subjects.npy'\n",
    "n_coef = 16"
   ]
  },
  {
   "cell_type": "code",
   "execution_count": 5,
   "metadata": {
    "collapsed": false
   },
   "outputs": [],
   "source": [
    "brain_regions = np.genfromtxt('/Users/linggeli/graph_fmri/clas_data/brain_regions.csv',\n",
    "                              dtype=int, delimiter=',')[:40] - 1\n",
    "X = np.load(X_path)[:, brain_regions, :n_coef]\n",
    "y = np.load(y_path)"
   ]
  },
  {
   "cell_type": "code",
   "execution_count": 6,
   "metadata": {
    "collapsed": false
   },
   "outputs": [
    {
     "name": "stdout",
     "output_type": "stream",
     "text": [
      "(1036, 40, 16)\n",
      "(1036,)\n"
     ]
    }
   ],
   "source": [
    "print(X.shape)\n",
    "print(y.shape)"
   ]
  },
  {
   "cell_type": "code",
   "execution_count": 7,
   "metadata": {
    "collapsed": false
   },
   "outputs": [],
   "source": [
    "X_train, y_train, X_val, y_val = prepare_data(X, y, 0.7)"
   ]
  },
  {
   "cell_type": "code",
   "execution_count": 8,
   "metadata": {
    "collapsed": true
   },
   "outputs": [],
   "source": [
    "from scipy import sparse"
   ]
  },
  {
   "cell_type": "code",
   "execution_count": 9,
   "metadata": {
    "collapsed": false
   },
   "outputs": [
    {
     "name": "stdout",
     "output_type": "stream",
     "text": [
      "(40, 40)\n"
     ]
    }
   ],
   "source": [
    "adj_matrix = np.genfromtxt('/Users/linggeli/graph_fmri/clas_data/adj_matrix.csv', delimiter=',')\n",
    "adj_matrix = adj_matrix[brain_regions, :][:, brain_regions]\n",
    "adj_matrix[np.isnan(adj_matrix)] = 0\n",
    "print(adj_matrix.shape)"
   ]
  },
  {
   "cell_type": "code",
   "execution_count": 10,
   "metadata": {
    "collapsed": false
   },
   "outputs": [
    {
     "data": {
      "image/png": "[encoded data removed]",
      "text/plain": [
       "<Figure size 432x288 with 1 Axes>"
      ]
     },
     "metadata": {
      "needs_background": "light"
     },
     "output_type": "display_data"
    }
   ],
   "source": [
    "plt.hist(adj_matrix.flatten(), bins=50)\n",
    "plt.show()"
   ]
  },
  {
   "cell_type": "code",
   "execution_count": 11,
   "metadata": {
    "collapsed": true
   },
   "outputs": [],
   "source": [
    "THRES = 0.7"
   ]
  },
  {
   "cell_type": "code",
   "execution_count": 12,
   "metadata": {
    "collapsed": false
   },
   "outputs": [
    {
     "data": {
      "image/png": "[encoded data removed]",
      "text/plain": [
       "<Figure size 432x288 with 1 Axes>"
      ]
     },
     "metadata": {
      "needs_background": "light"
     },
     "output_type": "display_data"
    }
   ],
   "source": [
    "A = adj_matrix.copy()\n",
    "A[A < THRES] = 0\n",
    "A = sparse.csr_matrix(A).astype(np.float32)\n",
    "plt.spy(A, markersize=2, color='black')\n",
    "plt.show()"
   ]
  },
  {
   "cell_type": "code",
   "execution_count": 13,
   "metadata": {
    "collapsed": false
   },
   "outputs": [
    {
     "name": "stdout",
     "output_type": "stream",
     "text": [
      "Layer 0: M_0 = |V| = 48 nodes (8 added),|E| = 241 edges\n",
      "Layer 1: M_1 = |V| = 24 nodes (3 added),|E| = 94 edges\n",
      "Layer 2: M_2 = |V| = 12 nodes (1 added),|E| = 33 edges\n",
      "Layer 3: M_3 = |V| = 6 nodes (0 added),|E| = 14 edges\n"
     ]
    }
   ],
   "source": [
    "graphs, perm = coarsening.coarsen(A, levels=3, self_connections=False)"
   ]
  },
  {
   "cell_type": "code",
   "execution_count": 14,
   "metadata": {
    "collapsed": false
   },
   "outputs": [],
   "source": [
    "L = [graph.laplacian(A, normalized=True) for A in graphs]"
   ]
  },
  {
   "cell_type": "code",
   "execution_count": 15,
   "metadata": {
    "collapsed": true
   },
   "outputs": [],
   "source": [
    "X_train_list = []\n",
    "X_val_list = []\n",
    "for i in range(n_coef):\n",
    "    X_train_list.append(coarsening.perm_data(X_train[:, :, i], perm))\n",
    "    X_val_list.append(coarsening.perm_data(X_val[:, :, i], perm))\n",
    "\n",
    "X_train_perm = np.stack(X_train_list, axis=-1)\n",
    "X_val_perm = np.stack(X_val_list, axis=-1)"
   ]
  },
  {
   "cell_type": "code",
   "execution_count": 16,
   "metadata": {
    "collapsed": false
   },
   "outputs": [],
   "source": [
    "from graph_fmri.src.graph_models import multi_cgcnn"
   ]
  },
  {
   "cell_type": "code",
   "execution_count": 17,
   "metadata": {
    "collapsed": true
   },
   "outputs": [],
   "source": [
    "N_FILTER = 30\n",
    "DENSE_SIZE = 20"
   ]
  },
  {
   "cell_type": "code",
   "execution_count": 18,
   "metadata": {
    "collapsed": false
   },
   "outputs": [],
   "source": [
    "params = dict()\n",
    "params['dir_name']       = 'demo'\n",
    "params['num_epochs']     = 50\n",
    "params['batch_size']     = 20\n",
    "params['eval_frequency'] = 100\n",
    "\n",
    "# Building blocks.\n",
    "params['filter']         = 'chebyshev5'\n",
    "params['brelu']          = 'b1relu'\n",
    "params['pool']           = 'apool1'\n",
    "\n",
    "# Number of classes.\n",
    "C = y.max() + 1\n",
    "assert C == np.unique(y).size\n",
    "\n",
    "# Architecture.\n",
    "params['F']              = [N_FILTER, N_FILTER]  # Number of graph convolutional filters.\n",
    "params['K']              = [10, 10]  # Polynomial orders.\n",
    "params['p']              = [2, 4]    # Pooling sizes.\n",
    "params['M']              = [DENSE_SIZE, C]  # Output dimensionality of fully connected layers.\n",
    "\n",
    "# Optimization.\n",
    "params['regularization'] = 5e-4\n",
    "params['dropout']        = 1.0\n",
    "params['learning_rate']  = 1e-3\n",
    "params['decay_rate']     = 0.95\n",
    "params['momentum']       = 0.9\n",
    "params['decay_steps']    = X_train.shape[0] / params['batch_size']\n",
    "\n",
    "params['n_graph'] = n_coef"
   ]
  },
  {
   "cell_type": "code",
   "execution_count": 19,
   "metadata": {
    "collapsed": false
   },
   "outputs": [
    {
     "name": "stdout",
     "output_type": "stream",
     "text": [
      "NN architecture\n",
      "  input: M_0 = 48\n",
      "  layer 1: cgconv1\n",
      "    representation: M_0 * F_1 / p_1 = 48 * 30 / 2 = 720\n",
      "    weights: F_0 * F_1 * K_1 = 1 * 30 * 10 = 300\n",
      "    biases: F_1 = 30\n",
      "  layer 2: cgconv2\n",
      "    representation: M_1 * F_2 / p_2 = 24 * 30 / 4 = 180\n",
      "    weights: F_1 * F_2 * K_2 = 30 * 30 * 10 = 9000\n",
      "    biases: F_2 = 30\n",
      "  layer 3: fc1\n",
      "    representation: M_3 = 20\n",
      "    weights: M_2 * M_3 = 180 * 20 = 3600\n",
      "    biases: M_3 = 20\n",
      "  layer 4: logits (softmax)\n",
      "    representation: M_4 = 2.0\n",
      "    weights: M_3 * M_4 = 20 * 2.0 = 40.0\n",
      "    biases: M_4 = 2.0\n"
     ]
    }
   ],
   "source": [
    "model = multi_cgcnn(L, **params)"
   ]
  },
  {
   "cell_type": "code",
   "execution_count": 20,
   "metadata": {
    "collapsed": false
   },
   "outputs": [
    {
     "name": "stdout",
     "output_type": "stream",
     "text": [
      "step 100 / 1812 (epoch 2.76 / 50):\n",
      "  learning_rate = 9.03e-04, loss_average = 6.97e-01\n",
      "  validation accuracy: 74.92 (233 / 311), f1 (weighted): 74.92, loss: 7.17e-01\n",
      "  time: 53s (wall 21s)\n",
      "step 200 / 1812 (epoch 5.52 / 50):\n",
      "  learning_rate = 7.74e-04, loss_average = 6.61e-01\n",
      "  validation accuracy: 76.21 (237 / 311), f1 (weighted): 75.94, loss: 6.86e-01\n",
      "  time: 105s (wall 40s)\n",
      "step 300 / 1812 (epoch 8.28 / 50):\n",
      "  learning_rate = 6.63e-04, loss_average = 6.47e-01\n",
      "  validation accuracy: 76.85 (239 / 311), f1 (weighted): 76.75, loss: 6.62e-01\n",
      "  time: 152s (wall 54s)\n",
      "step 400 / 1812 (epoch 11.03 / 50):\n",
      "  learning_rate = 5.69e-04, loss_average = 6.19e-01\n",
      "  validation accuracy: 76.53 (238 / 311), f1 (weighted): 76.50, loss: 6.50e-01\n",
      "  time: 198s (wall 67s)\n",
      "step 500 / 1812 (epoch 13.79 / 50):\n",
      "  learning_rate = 5.13e-04, loss_average = 5.83e-01\n",
      "  validation accuracy: 76.53 (238 / 311), f1 (weighted): 76.50, loss: 6.46e-01\n",
      "  time: 253s (wall 91s)\n",
      "step 600 / 1812 (epoch 16.55 / 50):\n",
      "  learning_rate = 4.40e-04, loss_average = 6.03e-01\n",
      "  validation accuracy: 77.49 (241 / 311), f1 (weighted): 77.43, loss: 6.45e-01\n",
      "  time: 308s (wall 120s)\n",
      "step 700 / 1812 (epoch 19.31 / 50):\n",
      "  learning_rate = 3.77e-04, loss_average = 5.95e-01\n",
      "  validation accuracy: 77.49 (241 / 311), f1 (weighted): 77.43, loss: 6.43e-01\n",
      "  time: 354s (wall 134s)\n",
      "step 800 / 1812 (epoch 22.07 / 50):\n",
      "  learning_rate = 3.24e-04, loss_average = 5.92e-01\n",
      "  validation accuracy: 77.49 (241 / 311), f1 (weighted): 77.44, loss: 6.40e-01\n",
      "  time: 400s (wall 147s)\n",
      "step 900 / 1812 (epoch 24.83 / 50):\n",
      "  learning_rate = 2.92e-04, loss_average = 5.87e-01\n",
      "  validation accuracy: 77.81 (242 / 311), f1 (weighted): 77.77, loss: 6.38e-01\n",
      "  time: 445s (wall 160s)\n",
      "step 1000 / 1812 (epoch 27.59 / 50):\n",
      "  learning_rate = 2.50e-04, loss_average = 5.93e-01\n",
      "  validation accuracy: 77.49 (241 / 311), f1 (weighted): 77.46, loss: 6.37e-01\n",
      "  time: 490s (wall 173s)\n",
      "step 1100 / 1812 (epoch 30.34 / 50):\n",
      "  learning_rate = 2.15e-04, loss_average = 6.16e-01\n",
      "  validation accuracy: 77.81 (242 / 311), f1 (weighted): 77.77, loss: 6.37e-01\n",
      "  time: 536s (wall 186s)\n",
      "step 1200 / 1812 (epoch 33.10 / 50):\n",
      "  learning_rate = 1.84e-04, loss_average = 6.07e-01\n",
      "  validation accuracy: 77.49 (241 / 311), f1 (weighted): 77.46, loss: 6.35e-01\n",
      "  time: 582s (wall 198s)\n",
      "step 1300 / 1812 (epoch 35.86 / 50):\n",
      "  learning_rate = 1.66e-04, loss_average = 5.59e-01\n",
      "  validation accuracy: 77.81 (242 / 311), f1 (weighted): 77.77, loss: 6.36e-01\n",
      "  time: 627s (wall 211s)\n",
      "step 1400 / 1812 (epoch 38.62 / 50):\n",
      "  learning_rate = 1.42e-04, loss_average = 5.36e-01\n",
      "  validation accuracy: 77.49 (241 / 311), f1 (weighted): 77.46, loss: 6.35e-01\n",
      "  time: 673s (wall 224s)\n",
      "step 1500 / 1812 (epoch 41.38 / 50):\n",
      "  learning_rate = 1.22e-04, loss_average = 6.29e-01\n",
      "  validation accuracy: 77.49 (241 / 311), f1 (weighted): 77.46, loss: 6.34e-01\n",
      "  time: 718s (wall 237s)\n",
      "step 1600 / 1812 (epoch 44.14 / 50):\n",
      "  learning_rate = 1.05e-04, loss_average = 5.75e-01\n",
      "  validation accuracy: 78.14 (243 / 311), f1 (weighted): 78.09, loss: 6.35e-01\n",
      "  time: 765s (wall 251s)\n",
      "step 1700 / 1812 (epoch 46.90 / 50):\n",
      "  learning_rate = 9.45e-05, loss_average = 5.80e-01\n",
      "  validation accuracy: 78.14 (243 / 311), f1 (weighted): 78.09, loss: 6.35e-01\n",
      "  time: 812s (wall 266s)\n",
      "step 1800 / 1812 (epoch 49.66 / 50):\n",
      "  learning_rate = 8.10e-05, loss_average = 5.22e-01\n",
      "  validation accuracy: 78.14 (243 / 311), f1 (weighted): 78.09, loss: 6.34e-01\n",
      "  time: 860s (wall 282s)\n",
      "step 1812 / 1812 (epoch 49.99 / 50):\n",
      "  learning_rate = 8.10e-05, loss_average = 6.20e-01\n",
      "  validation accuracy: 78.14 (243 / 311), f1 (weighted): 78.09, loss: 6.35e-01\n",
      "  time: 871s (wall 286s)\n",
      "validation accuracy: peak = 78.14, mean = 77.81\n"
     ]
    }
   ],
   "source": [
    "accuracy, loss, t_step = model.fit(X_train_perm, y_train, X_val_perm, y_val)"
   ]
  },
  {
   "cell_type": "code",
   "execution_count": null,
   "metadata": {
    "collapsed": true
   },
   "outputs": [],
   "source": []
  }
 ],
 "metadata": {
  "anaconda-cloud": {},
  "kernelspec": {
   "display_name": "Python [conda env:graphcnn]",
   "language": "python",
   "name": "conda-env-graphcnn-py"
  },
  "language_info": {
   "codemirror_mode": {
    "name": "ipython",
    "version": 3
   },
   "file_extension": ".py",
   "mimetype": "text/x-python",
   "name": "python",
   "nbconvert_exporter": "python",
   "pygments_lexer": "ipython3",
   "version": "3.5.6"
  }
 },
 "nbformat": 4,
 "nbformat_minor": 1
}
