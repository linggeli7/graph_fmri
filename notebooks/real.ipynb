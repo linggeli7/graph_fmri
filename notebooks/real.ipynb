{
 "cells": [
  {
   "cell_type": "code",
   "execution_count": 1,
   "metadata": {
    "collapsed": true
   },
   "outputs": [],
   "source": [
    "import os\n",
    "import sys\n",
    "module_path = os.path.abspath(os.path.join('..'))\n",
    "if module_path not in sys.path:\n",
    "    sys.path.append(module_path)"
   ]
  },
  {
   "cell_type": "code",
   "execution_count": 2,
   "metadata": {
    "collapsed": true
   },
   "outputs": [],
   "source": [
    "from lib import models, graph, coarsening\n",
    "import numpy as np\n",
    "import matplotlib.pyplot as plt\n",
    "%matplotlib inline"
   ]
  },
  {
   "cell_type": "code",
   "execution_count": 3,
   "metadata": {
    "collapsed": true
   },
   "outputs": [],
   "source": [
    "from data_utils import *"
   ]
  },
  {
   "cell_type": "code",
   "execution_count": 7,
   "metadata": {
    "collapsed": true
   },
   "outputs": [],
   "source": [
    "N_COEF = 8"
   ]
  },
  {
   "cell_type": "code",
   "execution_count": 8,
   "metadata": {
    "collapsed": false
   },
   "outputs": [],
   "source": [
    "X = np.load('/Users/linggeli/cnn_graph/fmri/clas_data/X_259sub_40reg_16coef.npy')\n",
    "X = X[:, :, :N_COEF]\n",
    "y = np.load('/Users/linggeli/cnn_graph/fmri/clas_data/y_259sub.npy')"
   ]
  },
  {
   "cell_type": "code",
   "execution_count": 9,
   "metadata": {
    "collapsed": false
   },
   "outputs": [
    {
     "name": "stdout",
     "output_type": "stream",
     "text": [
      "(1036, 40, 8)\n",
      "(1036,)\n"
     ]
    }
   ],
   "source": [
    "print(X.shape)\n",
    "print(y.shape)"
   ]
  },
  {
   "cell_type": "code",
   "execution_count": 10,
   "metadata": {
    "collapsed": true
   },
   "outputs": [],
   "source": [
    "n_train = 700\n",
    "n_val =  300\n",
    "\n",
    "np.random.seed(0)\n",
    "indices = np.random.permutation(X.shape[0])\n",
    "\n",
    "X_train = X[indices[:n_train]]\n",
    "X_val   = X[indices[n_train:n_train+n_val]]\n",
    "\n",
    "y_train = y[indices[:n_train]]\n",
    "y_val   = y[indices[n_train:n_train+n_val]]"
   ]
  },
  {
   "cell_type": "code",
   "execution_count": 11,
   "metadata": {
    "collapsed": true
   },
   "outputs": [],
   "source": [
    "X_train = (X_train - np.mean(X)) / np.std(X)\n",
    "X_val = (X_val - np.mean(X)) / np.std(X)"
   ]
  },
  {
   "cell_type": "code",
   "execution_count": 12,
   "metadata": {
    "collapsed": true
   },
   "outputs": [],
   "source": [
    "from scipy import sparse"
   ]
  },
  {
   "cell_type": "code",
   "execution_count": 14,
   "metadata": {
    "collapsed": false
   },
   "outputs": [
    {
     "name": "stdout",
     "output_type": "stream",
     "text": [
      "(375, 375)\n"
     ]
    }
   ],
   "source": [
    "adj_matrix = np.genfromtxt('/Users/linggeli/cnn_graph/fmri/clas_data/adj_matrix.csv', delimiter=',')\n",
    "adj_matrix[np.isnan(adj_matrix)] = 0\n",
    "print(adj_matrix.shape)"
   ]
  },
  {
   "cell_type": "code",
   "execution_count": 15,
   "metadata": {
    "collapsed": false
   },
   "outputs": [
    {
     "data": {
      "image/png": "[encoded data removed]",
      "text/plain": [
       "<Figure size 432x288 with 1 Axes>"
      ]
     },
     "metadata": {
      "needs_background": "light"
     },
     "output_type": "display_data"
    }
   ],
   "source": [
    "plt.hist(adj_matrix.flatten(), bins=50)\n",
    "plt.show()"
   ]
  },
  {
   "cell_type": "code",
   "execution_count": 16,
   "metadata": {
    "collapsed": true
   },
   "outputs": [],
   "source": [
    "THRES = 0.7"
   ]
  },
  {
   "cell_type": "code",
   "execution_count": 17,
   "metadata": {
    "collapsed": false
   },
   "outputs": [
    {
     "data": {
      "image/png": "[encoded data removed]",
      "text/plain": [
       "<Figure size 432x288 with 1 Axes>"
      ]
     },
     "metadata": {
      "needs_background": "light"
     },
     "output_type": "display_data"
    }
   ],
   "source": [
    "A = adj_matrix.copy()\n",
    "A = A[:100, :100]\n",
    "A[A < THRES] = 0\n",
    "A = sparse.csr_matrix(A).astype(np.float32)\n",
    "plt.spy(A, markersize=2, color='black')\n",
    "plt.show()"
   ]
  },
  {
   "cell_type": "code",
   "execution_count": 18,
   "metadata": {
    "collapsed": false
   },
   "outputs": [
    {
     "name": "stdout",
     "output_type": "stream",
     "text": [
      "Layer 0: M_0 = |V| = 104 nodes (4 added),|E| = 2455 edges\n",
      "Layer 1: M_1 = |V| = 52 nodes (2 added),|E| = 913 edges\n",
      "Layer 2: M_2 = |V| = 26 nodes (1 added),|E| = 257 edges\n",
      "Layer 3: M_3 = |V| = 13 nodes (0 added),|E| = 75 edges\n"
     ]
    }
   ],
   "source": [
    "graphs, perm = coarsening.coarsen(A, levels=3, self_connections=False)"
   ]
  },
  {
   "cell_type": "code",
   "execution_count": 19,
   "metadata": {
    "collapsed": false
   },
   "outputs": [],
   "source": [
    "L = [graph.laplacian(A, normalized=True) for A in graphs]"
   ]
  },
  {
   "cell_type": "code",
   "execution_count": 20,
   "metadata": {
    "collapsed": true
   },
   "outputs": [],
   "source": [
    "X_train_list = []\n",
    "X_val_list = []\n",
    "for i in range(N_COEF):\n",
    "    X_train_list.append(coarsening.perm_data(X_train[:, :, i], perm))\n",
    "    X_val_list.append(coarsening.perm_data(X_val[:, :, i], perm))\n",
    "\n",
    "X_train_perm = np.stack(X_train_list, axis=-1)\n",
    "X_val_perm = np.stack(X_val_list, axis=-1)"
   ]
  },
  {
   "cell_type": "code",
   "execution_count": 21,
   "metadata": {
    "collapsed": true
   },
   "outputs": [],
   "source": [
    "from fmri.graph_models import multi_cgcnn"
   ]
  },
  {
   "cell_type": "code",
   "execution_count": 22,
   "metadata": {
    "collapsed": true
   },
   "outputs": [],
   "source": [
    "N_FILTER = 30\n",
    "DENSE_SIZE = 20"
   ]
  },
  {
   "cell_type": "code",
   "execution_count": 23,
   "metadata": {
    "collapsed": false
   },
   "outputs": [],
   "source": [
    "params = dict()\n",
    "params['dir_name']       = 'demo'\n",
    "params['num_epochs']     = 50\n",
    "params['batch_size']     = 20\n",
    "params['eval_frequency'] = 100\n",
    "\n",
    "# Building blocks.\n",
    "params['filter']         = 'chebyshev5'\n",
    "params['brelu']          = 'b1relu'\n",
    "params['pool']           = 'apool1'\n",
    "\n",
    "# Number of classes.\n",
    "C = y.max() + 1\n",
    "assert C == np.unique(y).size\n",
    "\n",
    "# Architecture.\n",
    "params['F']              = [N_FILTER, N_FILTER]  # Number of graph convolutional filters.\n",
    "params['K']              = [10, 10]  # Polynomial orders.\n",
    "params['p']              = [4, 2]    # Pooling sizes.\n",
    "params['M']              = [DENSE_SIZE, C]  # Output dimensionality of fully connected layers.\n",
    "\n",
    "# Optimization.\n",
    "params['regularization'] = 5e-4\n",
    "params['dropout']        = 1.0\n",
    "params['learning_rate']  = 1e-3\n",
    "params['decay_rate']     = 0.95\n",
    "params['momentum']       = 0.9\n",
    "params['decay_steps']    = n_train / params['batch_size']\n",
    "\n",
    "params['n_graph'] = N_COEF"
   ]
  },
  {
   "cell_type": "code",
   "execution_count": 24,
   "metadata": {
    "collapsed": false
   },
   "outputs": [
    {
     "name": "stdout",
     "output_type": "stream",
     "text": [
      "NN architecture\n",
      "  input: M_0 = 104\n",
      "  layer 1: cgconv1\n",
      "    representation: M_0 * F_1 / p_1 = 104 * 30 / 4 = 780\n",
      "    weights: F_0 * F_1 * K_1 = 1 * 30 * 10 = 300\n",
      "    biases: F_1 = 30\n",
      "  layer 2: cgconv2\n",
      "    representation: M_1 * F_2 / p_2 = 26 * 30 / 2 = 390\n",
      "    weights: F_1 * F_2 * K_2 = 30 * 30 * 10 = 9000\n",
      "    biases: F_2 = 30\n",
      "  layer 3: fc1\n",
      "    representation: M_3 = 20\n",
      "    weights: M_2 * M_3 = 390 * 20 = 7800\n",
      "    biases: M_3 = 20\n",
      "  layer 4: logits (softmax)\n",
      "    representation: M_4 = 2\n",
      "    weights: M_3 * M_4 = 20 * 2 = 40\n",
      "    biases: M_4 = 2\n"
     ]
    }
   ],
   "source": [
    "model = multi_cgcnn(L, **params)"
   ]
  },
  {
   "cell_type": "code",
   "execution_count": 25,
   "metadata": {
    "collapsed": false
   },
   "outputs": [
    {
     "name": "stdout",
     "output_type": "stream",
     "text": [
      "step 100 / 1750 (epoch 2.86 / 50):\n",
      "  learning_rate = 9.03e-04, loss_average = 8.09e-01\n",
      "  validation accuracy: 59.00 (177 / 300), f1 (weighted): 58.37, loss: 8.06e-01\n",
      "  time: 33s (wall 12s)\n",
      "step 200 / 1750 (epoch 5.71 / 50):\n",
      "  learning_rate = 7.74e-04, loss_average = 8.02e-01\n",
      "  validation accuracy: 58.67 (176 / 300), f1 (weighted): 53.91, loss: 8.03e-01\n",
      "  time: 64s (wall 23s)\n",
      "step 300 / 1750 (epoch 8.57 / 50):\n",
      "  learning_rate = 6.63e-04, loss_average = 8.08e-01\n",
      "  validation accuracy: 58.67 (176 / 300), f1 (weighted): 56.84, loss: 8.02e-01\n",
      "  time: 93s (wall 31s)\n",
      "step 400 / 1750 (epoch 11.43 / 50):\n",
      "  learning_rate = 5.69e-04, loss_average = 8.11e-01\n",
      "  validation accuracy: 58.67 (176 / 300), f1 (weighted): 55.70, loss: 8.02e-01\n",
      "  time: 122s (wall 39s)\n",
      "step 500 / 1750 (epoch 14.29 / 50):\n",
      "  learning_rate = 4.88e-04, loss_average = 7.99e-01\n",
      "  validation accuracy: 58.67 (176 / 300), f1 (weighted): 56.71, loss: 7.99e-01\n",
      "  time: 153s (wall 49s)\n",
      "step 600 / 1750 (epoch 17.14 / 50):\n",
      "  learning_rate = 4.18e-04, loss_average = 7.98e-01\n",
      "  validation accuracy: 58.33 (175 / 300), f1 (weighted): 57.20, loss: 7.98e-01\n",
      "  time: 182s (wall 58s)\n",
      "step 700 / 1750 (epoch 20.00 / 50):\n",
      "  learning_rate = 3.77e-04, loss_average = 8.03e-01\n",
      "  validation accuracy: 58.67 (176 / 300), f1 (weighted): 57.85, loss: 7.96e-01\n",
      "  time: 212s (wall 68s)\n",
      "step 800 / 1750 (epoch 22.86 / 50):\n",
      "  learning_rate = 3.24e-04, loss_average = 7.94e-01\n",
      "  validation accuracy: 57.67 (173 / 300), f1 (weighted): 56.61, loss: 7.96e-01\n",
      "  time: 242s (wall 77s)\n",
      "step 900 / 1750 (epoch 25.71 / 50):\n",
      "  learning_rate = 2.77e-04, loss_average = 7.96e-01\n",
      "  validation accuracy: 58.33 (175 / 300), f1 (weighted): 57.63, loss: 7.95e-01\n",
      "  time: 270s (wall 85s)\n",
      "step 1000 / 1750 (epoch 28.57 / 50):\n",
      "  learning_rate = 2.38e-04, loss_average = 7.91e-01\n",
      "  validation accuracy: 59.67 (179 / 300), f1 (weighted): 59.24, loss: 7.95e-01\n",
      "  time: 299s (wall 93s)\n",
      "step 1100 / 1750 (epoch 31.43 / 50):\n",
      "  learning_rate = 2.04e-04, loss_average = 7.89e-01\n",
      "  validation accuracy: 58.67 (176 / 300), f1 (weighted): 58.00, loss: 7.95e-01\n",
      "  time: 328s (wall 101s)\n",
      "step 1200 / 1750 (epoch 34.29 / 50):\n",
      "  learning_rate = 1.75e-04, loss_average = 7.90e-01\n",
      "  validation accuracy: 58.33 (175 / 300), f1 (weighted): 57.20, loss: 7.95e-01\n",
      "  time: 357s (wall 108s)\n",
      "step 1300 / 1750 (epoch 37.14 / 50):\n",
      "  learning_rate = 1.50e-04, loss_average = 7.90e-01\n",
      "  validation accuracy: 58.33 (175 / 300), f1 (weighted): 57.55, loss: 7.94e-01\n",
      "  time: 386s (wall 117s)\n",
      "step 1400 / 1750 (epoch 40.00 / 50):\n",
      "  learning_rate = 1.35e-04, loss_average = 7.91e-01\n",
      "  validation accuracy: 58.00 (174 / 300), f1 (weighted): 57.09, loss: 7.94e-01\n",
      "  time: 415s (wall 125s)\n",
      "step 1500 / 1750 (epoch 42.86 / 50):\n",
      "  learning_rate = 1.16e-04, loss_average = 7.86e-01\n",
      "  validation accuracy: 58.33 (175 / 300), f1 (weighted): 57.47, loss: 7.94e-01\n",
      "  time: 444s (wall 133s)\n",
      "step 1600 / 1750 (epoch 45.71 / 50):\n",
      "  learning_rate = 9.94e-05, loss_average = 7.90e-01\n",
      "  validation accuracy: 58.67 (176 / 300), f1 (weighted): 57.93, loss: 7.94e-01\n",
      "  time: 472s (wall 141s)\n",
      "step 1700 / 1750 (epoch 48.57 / 50):\n",
      "  learning_rate = 8.53e-05, loss_average = 7.94e-01\n",
      "  validation accuracy: 59.00 (177 / 300), f1 (weighted): 58.30, loss: 7.94e-01\n",
      "  time: 501s (wall 149s)\n",
      "step 1750 / 1750 (epoch 50.00 / 50):\n",
      "  learning_rate = 8.10e-05, loss_average = 7.88e-01\n",
      "  validation accuracy: 59.00 (177 / 300), f1 (weighted): 58.30, loss: 7.94e-01\n",
      "  time: 517s (wall 153s)\n",
      "validation accuracy: peak = 59.67, mean = 58.63\n"
     ]
    }
   ],
   "source": [
    "accuracy, loss, t_step = model.fit(X_train_perm, y_train, X_val_perm, y_val)"
   ]
  },
  {
   "cell_type": "code",
   "execution_count": null,
   "metadata": {
    "collapsed": true
   },
   "outputs": [],
   "source": []
  }
 ],
 "metadata": {
  "anaconda-cloud": {},
  "kernelspec": {
   "display_name": "Python [conda env:graphcnn]",
   "language": "python",
   "name": "conda-env-graphcnn-py"
  },
  "language_info": {
   "codemirror_mode": {
    "name": "ipython",
    "version": 3
   },
   "file_extension": ".py",
   "mimetype": "text/x-python",
   "name": "python",
   "nbconvert_exporter": "python",
   "pygments_lexer": "ipython3",
   "version": "3.5.6"
  }
 },
 "nbformat": 4,
 "nbformat_minor": 1
}
