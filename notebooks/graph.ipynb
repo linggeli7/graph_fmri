{
 "cells": [
  {
   "cell_type": "code",
   "execution_count": 1,
   "metadata": {
    "collapsed": true
   },
   "outputs": [],
   "source": [
    "import os\n",
    "import sys\n",
    "module_path = os.path.abspath(os.path.join('..'))\n",
    "if module_path not in sys.path:\n",
    "    sys.path.append(module_path)"
   ]
  },
  {
   "cell_type": "code",
   "execution_count": 2,
   "metadata": {
    "collapsed": true
   },
   "outputs": [],
   "source": [
    "from lib import models, graph, coarsening\n",
    "import numpy as np\n",
    "import matplotlib.pyplot as plt\n",
    "%matplotlib inline"
   ]
  },
  {
   "cell_type": "code",
   "execution_count": 3,
   "metadata": {
    "collapsed": true
   },
   "outputs": [],
   "source": [
    "from data_utils import *"
   ]
  },
  {
   "cell_type": "code",
   "execution_count": 4,
   "metadata": {
    "collapsed": true
   },
   "outputs": [],
   "source": [
    "from scipy import sparse"
   ]
  },
  {
   "cell_type": "code",
   "execution_count": 12,
   "metadata": {
    "collapsed": true
   },
   "outputs": [],
   "source": [
    "brain_regions = np.genfromtxt('/Users/linggeli/Desktop/brain_regions.csv', dtype=int, delimiter=',')[:40]\n",
    "p_values = np.genfromtxt('/Users/linggeli/Desktop/p_values.csv', delimiter=',')[:40]"
   ]
  },
  {
   "cell_type": "code",
   "execution_count": 13,
   "metadata": {
    "collapsed": false
   },
   "outputs": [
    {
     "name": "stdout",
     "output_type": "stream",
     "text": [
      "[ 10  11  19  32  37  38  39  45  46  51  57  58  69  87  88  97  98  99\n",
      " 100 101 104 106 132 136 139 142 204 211 240 241 251 252 262 263 264 265\n",
      " 271 298 299 304]\n",
      "(40,)\n",
      "[1.240796e-02 6.908696e-01 1.518664e-01 1.993193e-01 1.856546e-06\n",
      " 2.531630e-07 6.086602e-03 3.806705e-04 1.357438e-03 1.197736e-26\n",
      " 5.270106e-04 5.450616e-01 1.518743e-01 4.494447e-37 9.772724e-25\n",
      " 2.428856e-43 1.288293e-42 1.541979e-22 2.469779e-45 6.897775e-01\n",
      " 3.857627e-01 2.848500e-24 1.733762e-28 1.713287e-33 5.042079e-53\n",
      " 5.498933e-01 2.606756e-01 4.687121e-25 2.782816e-06 8.266154e-01\n",
      " 1.471002e-25 4.662759e-31 3.688270e-23 2.982207e-36 4.826068e-46\n",
      " 3.367004e-37 4.493694e-24 1.900653e-22 2.987089e-33 2.772477e-01]\n",
      "(40,)\n"
     ]
    }
   ],
   "source": [
    "print(brain_regions)\n",
    "print(brain_regions.shape)\n",
    "print(p_values)\n",
    "print(p_values.shape)"
   ]
  },
  {
   "cell_type": "code",
   "execution_count": 14,
   "metadata": {
    "collapsed": false
   },
   "outputs": [
    {
     "name": "stderr",
     "output_type": "stream",
     "text": [
      "  0%|          | 0/209 [00:00<?, ?it/s]//anaconda/envs/graphcnn/lib/python3.5/site-packages/sklearn/linear_model/base.py:509: RuntimeWarning: internal gelsd driver lwork query error, required iwork dimension not returned. This is likely the result of LAPACK bug 0038, fixed in LAPACK 3.2.2 (released July 21, 2010). Falling back to 'gelss' driver.\n",
      "  linalg.lstsq(X, y)\n",
      "100%|██████████| 209/209 [00:42<00:00,  1.44it/s]\n"
     ]
    }
   ],
   "source": [
    "time_series_dir = '/Users/linggeli/cnn_graph/data/time_series/cup/'\n",
    "behavioral_dir = '/Users/linggeli/cnn_graph/data/fMRIbehav/cup/'\n",
    "subject_id_list = get_subject_id(time_series_dir)\n",
    "N_COEF = 5\n",
    "X = get_all_features(time_series_dir, behavioral_dir, subject_id_list, \n",
    "                        n_time=64, coef_idx=range(N_COEF))[:, brain_regions, :]\n",
    "y = get_all_labels(behavioral_dir, subject_id_list) - 1"
   ]
  },
  {
   "cell_type": "code",
   "execution_count": 19,
   "metadata": {
    "collapsed": true
   },
   "outputs": [],
   "source": [
    "def spatial_distance_graph(adj_matrix_path, pct):\n",
    "    \"\"\"\n",
    "    Graph based on spatial distance between brain regions.\n",
    "\n",
    "    :param adj_matrix_path: (string) path to already calculated csv file\n",
    "    :param pct: (float) percentage between 0 and 100 to make the graph sparse\n",
    "    :return: (2d numpy array) of size [100, 100] graph adjacency matrix\n",
    "    \"\"\"\n",
    "    adj_matrix = np.genfromtxt(adj_matrix_path, delimiter=',')\n",
    "    adj_matrix[np.isnan(adj_matrix)] = 0\n",
    "    thres = np.percentile(adj_matrix, pct)\n",
    "    A_spatial = adj_matrix[brain_regions, :][:, brain_regions]\n",
    "    A_spatial[A_spatial < thres] = 0\n",
    "    return A_spatial"
   ]
  },
  {
   "cell_type": "code",
   "execution_count": 105,
   "metadata": {
    "collapsed": false
   },
   "outputs": [],
   "source": [
    "adj_matrix_path = '/Users/linggeli/cnn_graph/stuff/adj_matrix.csv'\n",
    "A_spatial = spatial_distance_graph(adj_matrix_path, 80)"
   ]
  },
  {
   "cell_type": "code",
   "execution_count": 106,
   "metadata": {
    "collapsed": false
   },
   "outputs": [
    {
     "data": {
      "image/png": "[encoded data removed]",
      "text/plain": [
       "<Figure size 432x432 with 1 Axes>"
      ]
     },
     "metadata": {},
     "output_type": "display_data"
    }
   ],
   "source": [
    "plt.figure(figsize=(6, 6))\n",
    "plt.imshow(A_spatial)\n",
    "plt.xticks([])\n",
    "plt.yticks([])\n",
    "plt.show()"
   ]
  },
  {
   "cell_type": "code",
   "execution_count": 109,
   "metadata": {
    "collapsed": false
   },
   "outputs": [
    {
     "data": {
      "image/png": "[encoded data removed]",
      "text/plain": [
       "<Figure size 432x288 with 1 Axes>"
      ]
     },
     "metadata": {
      "needs_background": "light"
     },
     "output_type": "display_data"
    },
    {
     "name": "stdout",
     "output_type": "stream",
     "text": [
      "0.91298614901129\n",
      "0.8895717351266831\n",
      "0.8559577506613115\n"
     ]
    }
   ],
   "source": [
    "edges = A_spatial[(A_spatial < 1) & (A_spatial > 0)].flatten()\n",
    "plt.hist(edges, bins=50)\n",
    "plt.show()\n",
    "print(np.percentile(edges, 95))\n",
    "print(np.percentile(edges, 90))\n",
    "print(np.percentile(edges, 80))"
   ]
  },
  {
   "cell_type": "code",
   "execution_count": 110,
   "metadata": {
    "collapsed": false
   },
   "outputs": [
    {
     "name": "stdout",
     "output_type": "stream",
     "text": [
      "0.20105820105820105\n"
     ]
    }
   ],
   "source": [
    "total_edges = np.sum((A_spatial < 1) & (A_spatial > 0))\n",
    "select = (A_spatial < 1) & (A_spatial > 0.855957)\n",
    "A_spatial_mask = A_spatial.copy()\n",
    "A_spatial_mask[select] = 0\n",
    "print(np.sum(select) / total_edges)"
   ]
  },
  {
   "cell_type": "code",
   "execution_count": 111,
   "metadata": {
    "collapsed": true
   },
   "outputs": [],
   "source": [
    "def random_graph(random_seed, pct):\n",
    "    \"\"\"\n",
    "    Graph that is randomly generated.\n",
    "\n",
    "    :param random_seed: (int) seed for randomness\n",
    "    :param pct: (float) percentage between 0 and 100 to make the graph sparse\n",
    "    :return: (2d numpy array) of size [100, 100] graph adjacency matrix\n",
    "    \"\"\"\n",
    "    np.random.seed(random_seed)\n",
    "    A_random = np.random.uniform(low=0, high=1, size=(40, 40))\n",
    "    thres = 1 - 0.01 * pct\n",
    "    A_random[A_random > thres] = 0\n",
    "    A_random = A_random / thres\n",
    "    np.fill_diagonal(A_random, 1)\n",
    "    return A_random"
   ]
  },
  {
   "cell_type": "code",
   "execution_count": 129,
   "metadata": {
    "collapsed": true
   },
   "outputs": [],
   "source": [
    "A_random = random_graph(0, 80)"
   ]
  },
  {
   "cell_type": "code",
   "execution_count": 130,
   "metadata": {
    "collapsed": false
   },
   "outputs": [
    {
     "data": {
      "image/png": "[encoded data removed]",
      "text/plain": [
       "<Figure size 432x432 with 1 Axes>"
      ]
     },
     "metadata": {},
     "output_type": "display_data"
    }
   ],
   "source": [
    "plt.figure(figsize=(6, 6))\n",
    "plt.imshow(A_random)\n",
    "plt.xticks([])\n",
    "plt.yticks([])\n",
    "plt.show()"
   ]
  },
  {
   "cell_type": "code",
   "execution_count": 50,
   "metadata": {
    "collapsed": true
   },
   "outputs": [],
   "source": [
    "from scipy.stats import pearsonr\n",
    "from tqdm import tqdm"
   ]
  },
  {
   "cell_type": "code",
   "execution_count": 51,
   "metadata": {
    "collapsed": true
   },
   "outputs": [],
   "source": [
    "def pearson_correlation_graph(time_series_dir, pct):\n",
    "    \"\"\"\n",
    "    Graph based on Pearson correlation between time series.\n",
    "\n",
    "    :param time_series_dir: (string) directory of time series\n",
    "    :param pct: (float) percentage between 0 and 100 to make the graph sparse\n",
    "    :return: (2d numpy array) of size [100, 100] graph adjacency matrix\n",
    "    \"\"\"\n",
    "    subject_id_list = get_subject_id(time_series_dir)\n",
    "    n = len(subject_id_list)\n",
    "    all_pearson = np.zeros((n, 40, 40))\n",
    "    for i, subject_id in enumerate(tqdm(subject_id_list)):\n",
    "        time_series_data = load_time_series(time_series_dir, subject_id)[brain_regions, :]\n",
    "        time_series_data = preprocess_time_series(time_series_data)\n",
    "        for j in range(40):\n",
    "            for k in range(j, 40):\n",
    "                all_pearson[i, j, k] = pearsonr(time_series_data[j, :], time_series_data[k, :])[0]\n",
    "                all_pearson[i, k, j] = all_pearson[i, j, k]\n",
    "    mean_pearson = np.mean(all_pearson, axis=0)\n",
    "    thres = np.percentile(mean_pearson, pct)\n",
    "    A_pearson = mean_pearson\n",
    "    A_pearson[A_pearson < thres] = 0\n",
    "    return A_pearson"
   ]
  },
  {
   "cell_type": "code",
   "execution_count": 91,
   "metadata": {
    "collapsed": false
   },
   "outputs": [
    {
     "name": "stderr",
     "output_type": "stream",
     "text": [
      "100%|██████████| 209/209 [00:18<00:00, 11.21it/s]\n"
     ]
    }
   ],
   "source": [
    "A_pearson = pearson_correlation_graph(time_series_dir, 80)"
   ]
  },
  {
   "cell_type": "code",
   "execution_count": 92,
   "metadata": {
    "collapsed": false
   },
   "outputs": [
    {
     "data": {
      "image/png": "[encoded data removed]",
      "text/plain": [
       "<Figure size 432x432 with 1 Axes>"
      ]
     },
     "metadata": {},
     "output_type": "display_data"
    }
   ],
   "source": [
    "plt.figure(figsize=(6, 6))\n",
    "plt.imshow(A_pearson)\n",
    "plt.xticks([])\n",
    "plt.yticks([])\n",
    "plt.show()"
   ]
  },
  {
   "cell_type": "code",
   "execution_count": 156,
   "metadata": {
    "collapsed": true
   },
   "outputs": [],
   "source": [
    "def remove_connections(A_matrix, p_values, k):\n",
    "    top_regions = p_values.argsort()[:k]\n",
    "    for r in top_regions:\n",
    "        A_matrix[r, :] = 0\n",
    "        A_matrix[:, r] = 0\n",
    "    np.fill_diagonal(A_matrix, 1)\n",
    "    return A_matrix"
   ]
  },
  {
   "cell_type": "code",
   "execution_count": 161,
   "metadata": {
    "collapsed": false
   },
   "outputs": [],
   "source": [
    "A_spatial_mask = remove_connections(A_spatial, p_values, 10)"
   ]
  },
  {
   "cell_type": "code",
   "execution_count": 162,
   "metadata": {
    "collapsed": false
   },
   "outputs": [
    {
     "data": {
      "image/png": "[encoded data removed]",
      "text/plain": [
       "<Figure size 432x432 with 1 Axes>"
      ]
     },
     "metadata": {},
     "output_type": "display_data"
    }
   ],
   "source": [
    "plt.figure(figsize=(6, 6))\n",
    "plt.imshow(A_spatial_mask)\n",
    "plt.xticks([])\n",
    "plt.yticks([])\n",
    "plt.show()"
   ]
  },
  {
   "cell_type": "markdown",
   "metadata": {},
   "source": [
    "**Test different graphs**"
   ]
  },
  {
   "cell_type": "code",
   "execution_count": 132,
   "metadata": {
    "collapsed": true
   },
   "outputs": [],
   "source": [
    "n_train = 600\n",
    "n_val =  200\n",
    "\n",
    "np.random.seed(0)\n",
    "indices = np.random.permutation(X.shape[0])\n",
    "\n",
    "X_train = X[indices[:n_train]]\n",
    "X_val   = X[indices[n_train:n_train+n_val]]\n",
    "\n",
    "y_train = y[indices[:n_train]]\n",
    "y_val   = y[indices[n_train:n_train+n_val]]\n",
    "\n",
    "X_train = (X_train - np.mean(X)) / np.std(X)\n",
    "X_val = (X_val - np.mean(X)) / np.std(X)"
   ]
  },
  {
   "cell_type": "code",
   "execution_count": 163,
   "metadata": {
    "collapsed": true
   },
   "outputs": [],
   "source": [
    "A = sparse.csr_matrix(A_spatial_mask).astype(np.float32)"
   ]
  },
  {
   "cell_type": "code",
   "execution_count": 164,
   "metadata": {
    "collapsed": false
   },
   "outputs": [
    {
     "name": "stdout",
     "output_type": "stream",
     "text": [
      "Layer 0: M_0 = |V| = 72 nodes (32 added),|E| = 124 edges\n",
      "Layer 1: M_1 = |V| = 36 nodes (10 added),|E| = 47 edges\n",
      "Layer 2: M_2 = |V| = 18 nodes (0 added),|E| = 16 edges\n"
     ]
    }
   ],
   "source": [
    "graphs, perm = coarsening.coarsen(A, levels=2, self_connections=False)"
   ]
  },
  {
   "cell_type": "code",
   "execution_count": 165,
   "metadata": {
    "collapsed": true
   },
   "outputs": [],
   "source": [
    "L = [graph.laplacian(A, normalized=True) for A in graphs]"
   ]
  },
  {
   "cell_type": "code",
   "execution_count": 166,
   "metadata": {
    "collapsed": true
   },
   "outputs": [],
   "source": [
    "X_train_list = []\n",
    "X_val_list = []\n",
    "for i in range(N_COEF):\n",
    "    X_train_list.append(coarsening.perm_data(X_train[:, :, i], perm))\n",
    "    X_val_list.append(coarsening.perm_data(X_val[:, :, i], perm))\n",
    "\n",
    "X_train_perm = np.stack(X_train_list, axis=-1)\n",
    "X_val_perm = np.stack(X_val_list, axis=-1)"
   ]
  },
  {
   "cell_type": "code",
   "execution_count": 167,
   "metadata": {
    "collapsed": true
   },
   "outputs": [],
   "source": [
    "from fmri.graph_models import multi_cgcnn"
   ]
  },
  {
   "cell_type": "code",
   "execution_count": 168,
   "metadata": {
    "collapsed": true
   },
   "outputs": [],
   "source": [
    "N_FILTER = 30\n",
    "DENSE_SIZE = 20"
   ]
  },
  {
   "cell_type": "code",
   "execution_count": 169,
   "metadata": {
    "collapsed": false
   },
   "outputs": [],
   "source": [
    "params = dict()\n",
    "params['dir_name']       = 'demo'\n",
    "params['num_epochs']     = 50\n",
    "params['batch_size']     = 20\n",
    "params['eval_frequency'] = 100\n",
    "\n",
    "# Building blocks.\n",
    "params['filter']         = 'chebyshev5'\n",
    "params['brelu']          = 'b1relu'\n",
    "params['pool']           = 'apool1'\n",
    "\n",
    "# Number of classes.\n",
    "C = 2\n",
    "#C = y.max() + 1\n",
    "#assert C == np.unique(y).size\n",
    "\n",
    "# Architecture.\n",
    "params['F']              = [N_FILTER, N_FILTER]  # Number of graph convolutional filters.\n",
    "params['K']              = [10, 10]  # Polynomial orders.\n",
    "params['p']              = [2, 2]    # Pooling sizes.\n",
    "params['M']              = [DENSE_SIZE, C]  # Output dimensionality of fully connected layers.\n",
    "\n",
    "# Optimization.\n",
    "params['regularization'] = 5e-4\n",
    "params['dropout']        = 0.9\n",
    "params['learning_rate']  = 1e-3\n",
    "params['decay_rate']     = 0.95\n",
    "params['momentum']       = 0.9\n",
    "params['decay_steps']    = n_train / params['batch_size']\n",
    "\n",
    "params['n_graph'] = N_COEF"
   ]
  },
  {
   "cell_type": "code",
   "execution_count": 170,
   "metadata": {
    "collapsed": false
   },
   "outputs": [
    {
     "name": "stdout",
     "output_type": "stream",
     "text": [
      "NN architecture\n",
      "  input: M_0 = 72\n",
      "  layer 1: cgconv1\n",
      "    representation: M_0 * F_1 / p_1 = 72 * 30 / 2 = 1080\n",
      "    weights: F_0 * F_1 * K_1 = 1 * 30 * 10 = 300\n",
      "    biases: F_1 = 30\n",
      "  layer 2: cgconv2\n",
      "    representation: M_1 * F_2 / p_2 = 36 * 30 / 2 = 540\n",
      "    weights: F_1 * F_2 * K_2 = 30 * 30 * 10 = 9000\n",
      "    biases: F_2 = 30\n",
      "  layer 3: fc1\n",
      "    representation: M_3 = 20\n",
      "    weights: M_2 * M_3 = 540 * 20 = 10800\n",
      "    biases: M_3 = 20\n",
      "  layer 4: logits (softmax)\n",
      "    representation: M_4 = 2\n",
      "    weights: M_3 * M_4 = 20 * 2 = 40\n",
      "    biases: M_4 = 2\n"
     ]
    }
   ],
   "source": [
    "model = multi_cgcnn(L, **params)"
   ]
  },
  {
   "cell_type": "code",
   "execution_count": 171,
   "metadata": {
    "collapsed": false
   },
   "outputs": [
    {
     "name": "stdout",
     "output_type": "stream",
     "text": [
      "step 100 / 1500 (epoch 3.33 / 50):\n",
      "  learning_rate = 8.57e-04, loss_average = 7.21e-01\n",
      "  validation accuracy: 63.00 (126 / 200), f1 (weighted): 62.67, loss: 7.59e-01\n",
      "  time: 24s (wall 9s)\n",
      "step 200 / 1500 (epoch 6.67 / 50):\n",
      "  learning_rate = 7.35e-04, loss_average = 6.86e-01\n",
      "  validation accuracy: 64.00 (128 / 200), f1 (weighted): 63.61, loss: 7.56e-01\n",
      "  time: 46s (wall 17s)\n",
      "step 300 / 1500 (epoch 10.00 / 50):\n",
      "  learning_rate = 6.30e-04, loss_average = 6.87e-01\n",
      "  validation accuracy: 63.00 (126 / 200), f1 (weighted): 62.90, loss: 7.58e-01\n",
      "  time: 67s (wall 23s)\n",
      "step 400 / 1500 (epoch 13.33 / 50):\n",
      "  learning_rate = 5.13e-04, loss_average = 6.96e-01\n",
      "  validation accuracy: 63.50 (127 / 200), f1 (weighted): 63.21, loss: 7.56e-01\n",
      "  time: 89s (wall 29s)\n",
      "step 500 / 1500 (epoch 16.67 / 50):\n",
      "  learning_rate = 4.40e-04, loss_average = 6.54e-01\n",
      "  validation accuracy: 64.50 (129 / 200), f1 (weighted): 64.28, loss: 7.54e-01\n",
      "  time: 110s (wall 35s)\n",
      "step 600 / 1500 (epoch 20.00 / 50):\n",
      "  learning_rate = 3.77e-04, loss_average = 6.76e-01\n",
      "  validation accuracy: 64.00 (128 / 200), f1 (weighted): 63.80, loss: 7.54e-01\n",
      "  time: 131s (wall 41s)\n",
      "step 700 / 1500 (epoch 23.33 / 50):\n",
      "  learning_rate = 3.07e-04, loss_average = 6.71e-01\n",
      "  validation accuracy: 64.00 (128 / 200), f1 (weighted): 63.75, loss: 7.53e-01\n",
      "  time: 152s (wall 48s)\n",
      "step 800 / 1500 (epoch 26.67 / 50):\n",
      "  learning_rate = 2.64e-04, loss_average = 6.58e-01\n",
      "  validation accuracy: 64.50 (129 / 200), f1 (weighted): 64.33, loss: 7.53e-01\n",
      "  time: 173s (wall 54s)\n",
      "step 900 / 1500 (epoch 30.00 / 50):\n",
      "  learning_rate = 2.26e-04, loss_average = 6.85e-01\n",
      "  validation accuracy: 64.00 (128 / 200), f1 (weighted): 63.80, loss: 7.51e-01\n",
      "  time: 194s (wall 60s)\n",
      "step 1000 / 1500 (epoch 33.33 / 50):\n",
      "  learning_rate = 1.84e-04, loss_average = 6.81e-01\n",
      "  validation accuracy: 64.00 (128 / 200), f1 (weighted): 63.80, loss: 7.50e-01\n",
      "  time: 215s (wall 66s)\n",
      "step 1100 / 1500 (epoch 36.67 / 50):\n",
      "  learning_rate = 1.58e-04, loss_average = 6.67e-01\n",
      "  validation accuracy: 64.50 (129 / 200), f1 (weighted): 64.33, loss: 7.49e-01\n",
      "  time: 237s (wall 72s)\n",
      "step 1200 / 1500 (epoch 40.00 / 50):\n",
      "  learning_rate = 1.35e-04, loss_average = 6.74e-01\n",
      "  validation accuracy: 64.00 (128 / 200), f1 (weighted): 63.90, loss: 7.50e-01\n",
      "  time: 258s (wall 78s)\n",
      "step 1300 / 1500 (epoch 43.33 / 50):\n",
      "  learning_rate = 1.10e-04, loss_average = 6.59e-01\n",
      "  validation accuracy: 65.00 (130 / 200), f1 (weighted): 64.86, loss: 7.49e-01\n",
      "  time: 281s (wall 85s)\n",
      "step 1400 / 1500 (epoch 46.67 / 50):\n",
      "  learning_rate = 9.45e-05, loss_average = 6.68e-01\n",
      "  validation accuracy: 64.50 (129 / 200), f1 (weighted): 64.33, loss: 7.49e-01\n",
      "  time: 302s (wall 91s)\n",
      "step 1500 / 1500 (epoch 50.00 / 50):\n",
      "  learning_rate = 8.10e-05, loss_average = 6.80e-01\n",
      "  validation accuracy: 64.50 (129 / 200), f1 (weighted): 64.33, loss: 7.49e-01\n",
      "  time: 323s (wall 98s)\n",
      "validation accuracy: peak = 65.00, mean = 64.30\n"
     ]
    }
   ],
   "source": [
    "accuracy, loss, t_step = model.fit(X_train_perm, y_train, X_val_perm, y_val)"
   ]
  },
  {
   "cell_type": "code",
   "execution_count": null,
   "metadata": {
    "collapsed": true
   },
   "outputs": [],
   "source": []
  }
 ],
 "metadata": {
  "anaconda-cloud": {},
  "kernelspec": {
   "display_name": "Python [conda env:graphcnn]",
   "language": "python",
   "name": "conda-env-graphcnn-py"
  },
  "language_info": {
   "codemirror_mode": {
    "name": "ipython",
    "version": 3
   },
   "file_extension": ".py",
   "mimetype": "text/x-python",
   "name": "python",
   "nbconvert_exporter": "python",
   "pygments_lexer": "ipython3",
   "version": "3.5.6"
  }
 },
 "nbformat": 4,
 "nbformat_minor": 1
}
