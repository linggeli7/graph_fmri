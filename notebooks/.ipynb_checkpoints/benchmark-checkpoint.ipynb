{
 "cells": [
  {
   "cell_type": "code",
   "execution_count": 1,
   "metadata": {
    "collapsed": true
   },
   "outputs": [],
   "source": [
    "import numpy as np\n",
    "import matplotlib.pyplot as plt\n",
    "%matplotlib inline"
   ]
  },
  {
   "cell_type": "code",
   "execution_count": 2,
   "metadata": {
    "collapsed": true
   },
   "outputs": [],
   "source": [
    "from sklearn.linear_model import LogisticRegressionCV\n",
    "from sklearn.metrics import roc_curve, auc"
   ]
  },
  {
   "cell_type": "code",
   "execution_count": 3,
   "metadata": {
    "collapsed": false
   },
   "outputs": [
    {
     "name": "stderr",
     "output_type": "stream",
     "text": [
      "Using TensorFlow backend.\n"
     ]
    }
   ],
   "source": [
    "from keras.models import Sequential\n",
    "from keras.layers import Dense, Dropout\n",
    "from keras import Model\n",
    "from keras.layers import Conv2D, MaxPooling2D, Input, Flatten, AveragePooling2D"
   ]
  },
  {
   "cell_type": "code",
   "execution_count": 4,
   "metadata": {
    "collapsed": true
   },
   "outputs": [],
   "source": [
    "n_coef = 16"
   ]
  },
  {
   "cell_type": "code",
   "execution_count": 5,
   "metadata": {
    "collapsed": true
   },
   "outputs": [],
   "source": [
    "brain_regions = np.genfromtxt('/Users/linggeli/graph_fmri/clas_data/brain_regions.csv', dtype=int, delimiter=',')[:40] - 1"
   ]
  },
  {
   "cell_type": "code",
   "execution_count": 6,
   "metadata": {
    "collapsed": true
   },
   "outputs": [],
   "source": [
    "X = np.load('/Users/linggeli/graph_fmri/clas_data/features_259subjects_filtered.npy')[:, brain_regions, :n_coef]\n",
    "y = np.load('/Users/linggeli/graph_fmri/clas_data/labels_259subjects.npy')"
   ]
  },
  {
   "cell_type": "code",
   "execution_count": 7,
   "metadata": {
    "collapsed": false
   },
   "outputs": [
    {
     "name": "stdout",
     "output_type": "stream",
     "text": [
      "(1036, 40, 16)\n",
      "(1036,)\n"
     ]
    }
   ],
   "source": [
    "print(X.shape)\n",
    "print(y.shape)"
   ]
  },
  {
   "cell_type": "code",
   "execution_count": 8,
   "metadata": {
    "collapsed": true
   },
   "outputs": [],
   "source": [
    "n_train = 700\n",
    "n_val = 300\n",
    "\n",
    "np.random.seed(0)\n",
    "indices = np.random.permutation(X.shape[0])"
   ]
  },
  {
   "cell_type": "code",
   "execution_count": 9,
   "metadata": {
    "collapsed": true
   },
   "outputs": [],
   "source": [
    "X_train = X[indices[:n_train]]\n",
    "X_val   = X[indices[n_train:n_train+n_val]]\n",
    "X_test  = X[indices[n_train+n_val:]]\n",
    "\n",
    "y_train = y[indices[:n_train]]\n",
    "y_val   = y[indices[n_train:n_train+n_val]]\n",
    "y_test  = y[indices[n_train+n_val:]]"
   ]
  },
  {
   "cell_type": "code",
   "execution_count": 10,
   "metadata": {
    "collapsed": true
   },
   "outputs": [],
   "source": [
    "from sklearn import preprocessing"
   ]
  },
  {
   "cell_type": "code",
   "execution_count": 11,
   "metadata": {
    "collapsed": true
   },
   "outputs": [],
   "source": [
    "X_vec = X.reshape((X.shape[0], X.shape[1] * X.shape[2]))\n",
    "X_vec = preprocessing.scale(X_vec)\n",
    "X_train_vec = X_vec[indices[:n_train]]\n",
    "X_val_vec   = X_vec[indices[n_train:n_train+n_val]]\n",
    "X_test_vec  = X_vec[indices[n_train+n_val:]]"
   ]
  },
  {
   "cell_type": "code",
   "execution_count": 12,
   "metadata": {
    "collapsed": false
   },
   "outputs": [
    {
     "name": "stdout",
     "output_type": "stream",
     "text": [
      "(700, 640)\n"
     ]
    }
   ],
   "source": [
    "print(X_train_vec.shape)"
   ]
  },
  {
   "cell_type": "code",
   "execution_count": 13,
   "metadata": {
    "collapsed": true
   },
   "outputs": [],
   "source": [
    "model = LogisticRegressionCV(cv=10, penalty='l1', solver='liblinear')"
   ]
  },
  {
   "cell_type": "code",
   "execution_count": 14,
   "metadata": {
    "collapsed": false
   },
   "outputs": [
    {
     "data": {
      "text/plain": [
       "LogisticRegressionCV(Cs=10, class_weight=None, cv=10, dual=False,\n",
       "           fit_intercept=True, intercept_scaling=1.0, max_iter=100,\n",
       "           multi_class='ovr', n_jobs=1, penalty='l1', random_state=None,\n",
       "           refit=True, scoring=None, solver='liblinear', tol=0.0001,\n",
       "           verbose=0)"
      ]
     },
     "execution_count": 14,
     "metadata": {},
     "output_type": "execute_result"
    }
   ],
   "source": [
    "model.fit(X_train_vec, y_train)"
   ]
  },
  {
   "cell_type": "code",
   "execution_count": 15,
   "metadata": {
    "collapsed": false
   },
   "outputs": [
    {
     "name": "stdout",
     "output_type": "stream",
     "text": [
      "0.0464158883361\n"
     ]
    }
   ],
   "source": [
    "print(model.C_[0])"
   ]
  },
  {
   "cell_type": "code",
   "execution_count": 16,
   "metadata": {
    "collapsed": false
   },
   "outputs": [
    {
     "name": "stdout",
     "output_type": "stream",
     "text": [
      "0.753333333333\n"
     ]
    }
   ],
   "source": [
    "y_hat = model.predict(X_val_vec)\n",
    "print(np.mean(y_hat == y_val))"
   ]
  },
  {
   "cell_type": "code",
   "execution_count": 17,
   "metadata": {
    "collapsed": false
   },
   "outputs": [
    {
     "name": "stdout",
     "output_type": "stream",
     "text": [
      "_________________________________________________________________\n",
      "Layer (type)                 Output Shape              Param #   \n",
      "=================================================================\n",
      "dense_1 (Dense)              (None, 200)               128200    \n",
      "_________________________________________________________________\n",
      "dense_2 (Dense)              (None, 40)                8040      \n",
      "_________________________________________________________________\n",
      "dense_3 (Dense)              (None, 20)                820       \n",
      "_________________________________________________________________\n",
      "dropout_1 (Dropout)          (None, 20)                0         \n",
      "_________________________________________________________________\n",
      "dense_4 (Dense)              (None, 1)                 21        \n",
      "=================================================================\n",
      "Total params: 137,081\n",
      "Trainable params: 137,081\n",
      "Non-trainable params: 0\n",
      "_________________________________________________________________\n"
     ]
    }
   ],
   "source": [
    "model = Sequential()\n",
    "model.add(Dense(200, input_shape=(X_train_vec.shape[1],), activation='relu'))\n",
    "model.add(Dense(40, activation='relu'))\n",
    "model.add(Dense(20, activation='relu'))\n",
    "model.add(Dropout(0.1))\n",
    "model.add(Dense(1, activation='sigmoid'))\n",
    "model.summary()"
   ]
  },
  {
   "cell_type": "code",
   "execution_count": 18,
   "metadata": {
    "collapsed": true
   },
   "outputs": [],
   "source": [
    "model.compile(optimizer='adam',\n",
    "              loss='binary_crossentropy',\n",
    "              metrics=['accuracy'])"
   ]
  },
  {
   "cell_type": "code",
   "execution_count": 19,
   "metadata": {
    "collapsed": false
   },
   "outputs": [
    {
     "name": "stdout",
     "output_type": "stream",
     "text": [
      "Train on 700 samples, validate on 300 samples\n",
      "Epoch 1/10\n",
      "700/700 [==============================] - 1s 972us/step - loss: 0.7250 - acc: 0.5771 - val_loss: 0.5648 - val_acc: 0.7167\n",
      "Epoch 2/10\n",
      "700/700 [==============================] - 0s 74us/step - loss: 0.4721 - acc: 0.7943 - val_loss: 0.5455 - val_acc: 0.7500\n",
      "Epoch 3/10\n",
      "700/700 [==============================] - 0s 86us/step - loss: 0.3595 - acc: 0.8643 - val_loss: 0.5206 - val_acc: 0.7733\n",
      "Epoch 4/10\n",
      "700/700 [==============================] - 0s 98us/step - loss: 0.2715 - acc: 0.9157 - val_loss: 0.4980 - val_acc: 0.8033\n",
      "Epoch 5/10\n",
      "700/700 [==============================] - 0s 103us/step - loss: 0.1980 - acc: 0.9543 - val_loss: 0.5099 - val_acc: 0.8000\n",
      "Epoch 6/10\n",
      "700/700 [==============================] - 0s 115us/step - loss: 0.1469 - acc: 0.9729 - val_loss: 0.5414 - val_acc: 0.8000\n",
      "Epoch 7/10\n",
      "700/700 [==============================] - 0s 106us/step - loss: 0.1063 - acc: 0.9829 - val_loss: 0.5675 - val_acc: 0.7900\n",
      "Epoch 8/10\n",
      "700/700 [==============================] - 0s 104us/step - loss: 0.0669 - acc: 0.9914 - val_loss: 0.5974 - val_acc: 0.7867\n",
      "Epoch 9/10\n",
      "700/700 [==============================] - 0s 117us/step - loss: 0.0457 - acc: 0.9943 - val_loss: 0.6429 - val_acc: 0.7867\n",
      "Epoch 10/10\n",
      "700/700 [==============================] - 0s 125us/step - loss: 0.0391 - acc: 0.9971 - val_loss: 0.6757 - val_acc: 0.7867\n"
     ]
    }
   ],
   "source": [
    "hist = model.fit(X_train_vec, y_train, batch_size=100, epochs=10, validation_data=(X_val_vec, y_val))"
   ]
  },
  {
   "cell_type": "code",
   "execution_count": 20,
   "metadata": {
    "collapsed": false
   },
   "outputs": [
    {
     "name": "stdout",
     "output_type": "stream",
     "text": [
      "(300,)\n"
     ]
    }
   ],
   "source": [
    "y_hat = model.predict(X_val_vec)[:, 0]\n",
    "print(y_hat.shape)"
   ]
  },
  {
   "cell_type": "code",
   "execution_count": 21,
   "metadata": {
    "collapsed": false
   },
   "outputs": [
    {
     "name": "stdout",
     "output_type": "stream",
     "text": [
      "0.854029532112\n"
     ]
    }
   ],
   "source": [
    "fpr, tpr, _ = roc_curve(y_val, y_hat)\n",
    "roc_auc = auc(fpr, tpr)\n",
    "print(roc_auc)"
   ]
  },
  {
   "cell_type": "code",
   "execution_count": 22,
   "metadata": {
    "collapsed": false
   },
   "outputs": [
    {
     "data": {
      "text/plain": [
       "Text(0,0.5,u'True Positive Rate')"
      ]
     },
     "execution_count": 22,
     "metadata": {},
     "output_type": "execute_result"
    },
    {
     "data": {
      "image/png": "[encoded data removed]",
      "text/plain": [
       "<matplotlib.figure.Figure at 0x11bd6c1d0>"
      ]
     },
     "metadata": {},
     "output_type": "display_data"
    }
   ],
   "source": [
    "plt.figure()\n",
    "plt.plot(fpr, tpr, color='darkorange', label='')\n",
    "plt.plot([0, 1], [0, 1], color='navy', linestyle='--')\n",
    "plt.xlim([0.0, 1.0])\n",
    "plt.ylim([0.0, 1.05])\n",
    "plt.xlabel('False Positive Rate')\n",
    "plt.ylabel('True Positive Rate')"
   ]
  },
  {
   "cell_type": "code",
   "execution_count": 28,
   "metadata": {
    "collapsed": true
   },
   "outputs": [],
   "source": [
    "n_filter = 10\n",
    "dense_size = 40"
   ]
  },
  {
   "cell_type": "code",
   "execution_count": 29,
   "metadata": {
    "collapsed": false
   },
   "outputs": [
    {
     "name": "stdout",
     "output_type": "stream",
     "text": [
      "_________________________________________________________________\n",
      "Layer (type)                 Output Shape              Param #   \n",
      "=================================================================\n",
      "input_2 (InputLayer)         (None, 40, 16, 1)         0         \n",
      "_________________________________________________________________\n",
      "conv2d_2 (Conv2D)            (None, 40, 16, 10)        170       \n",
      "_________________________________________________________________\n",
      "average_pooling2d_2 (Average (None, 10, 4, 10)         0         \n",
      "_________________________________________________________________\n",
      "flatten_2 (Flatten)          (None, 400)               0         \n",
      "_________________________________________________________________\n",
      "dense_7 (Dense)              (None, 40)                16040     \n",
      "_________________________________________________________________\n",
      "dropout_3 (Dropout)          (None, 40)                0         \n",
      "_________________________________________________________________\n",
      "dense_8 (Dense)              (None, 1)                 41        \n",
      "=================================================================\n",
      "Total params: 16,251\n",
      "Trainable params: 16,251\n",
      "Non-trainable params: 0\n",
      "_________________________________________________________________\n"
     ]
    }
   ],
   "source": [
    "input_image = Input(shape=(40, 16, 1))\n",
    "x = Conv2D(n_filter, (4, 4), padding='same', activation='relu')(input_image)\n",
    "x = AveragePooling2D((4, 4))(x)\n",
    "x = Flatten()(x)\n",
    "x = Dense(dense_size, activation='relu')(x)\n",
    "x = Dropout(0.1)(x)\n",
    "y = Dense(1, activation='sigmoid')(x)\n",
    "conv_model = Model(input_image, y)\n",
    "conv_model.summary()"
   ]
  },
  {
   "cell_type": "code",
   "execution_count": 30,
   "metadata": {
    "collapsed": true
   },
   "outputs": [],
   "source": [
    "conv_model.compile(optimizer='adam',\n",
    "              loss='binary_crossentropy',\n",
    "              metrics=['accuracy'])"
   ]
  },
  {
   "cell_type": "code",
   "execution_count": 26,
   "metadata": {
    "collapsed": true
   },
   "outputs": [],
   "source": [
    "X_train = (X_train - np.mean(X)) / np.std(X)\n",
    "X_val = (X_val - np.mean(X)) / np.std(X)\n",
    "X_train_image = np.expand_dims(X_train, axis=-1)\n",
    "X_val_image = np.expand_dims(X_val, axis=-1)"
   ]
  },
  {
   "cell_type": "code",
   "execution_count": 31,
   "metadata": {
    "collapsed": false
   },
   "outputs": [
    {
     "name": "stdout",
     "output_type": "stream",
     "text": [
      "Train on 700 samples, validate on 300 samples\n",
      "Epoch 1/10\n",
      "700/700 [==============================] - 1s 1ms/step - loss: 0.6753 - acc: 0.6014 - val_loss: 0.6339 - val_acc: 0.6800\n",
      "Epoch 2/10\n",
      "700/700 [==============================] - 0s 273us/step - loss: 0.6196 - acc: 0.6714 - val_loss: 0.5943 - val_acc: 0.7300\n",
      "Epoch 3/10\n",
      "700/700 [==============================] - 0s 273us/step - loss: 0.5845 - acc: 0.7271 - val_loss: 0.5737 - val_acc: 0.7000\n",
      "Epoch 4/10\n",
      "700/700 [==============================] - 0s 318us/step - loss: 0.5672 - acc: 0.7386 - val_loss: 0.5643 - val_acc: 0.7100\n",
      "Epoch 5/10\n",
      "700/700 [==============================] - 0s 285us/step - loss: 0.5512 - acc: 0.7400 - val_loss: 0.5609 - val_acc: 0.7000\n",
      "Epoch 6/10\n",
      "700/700 [==============================] - 0s 288us/step - loss: 0.5423 - acc: 0.7371 - val_loss: 0.5519 - val_acc: 0.7200\n",
      "Epoch 7/10\n",
      "700/700 [==============================] - 0s 415us/step - loss: 0.5466 - acc: 0.7443 - val_loss: 0.5461 - val_acc: 0.7100\n",
      "Epoch 8/10\n",
      "700/700 [==============================] - 0s 340us/step - loss: 0.5350 - acc: 0.7571 - val_loss: 0.5419 - val_acc: 0.7300\n",
      "Epoch 9/10\n",
      "700/700 [==============================] - 0s 296us/step - loss: 0.5272 - acc: 0.7557 - val_loss: 0.5345 - val_acc: 0.7233\n",
      "Epoch 10/10\n",
      "700/700 [==============================] - 0s 297us/step - loss: 0.5206 - acc: 0.7700 - val_loss: 0.5302 - val_acc: 0.7367\n"
     ]
    },
    {
     "data": {
      "text/plain": [
       "<keras.callbacks.History at 0x11d109910>"
      ]
     },
     "execution_count": 31,
     "metadata": {},
     "output_type": "execute_result"
    }
   ],
   "source": [
    "conv_model.fit(X_train_image, y_train, batch_size=100, epochs=10, verbose=1, validation_data=(X_val_image, y_val))"
   ]
  },
  {
   "cell_type": "code",
   "execution_count": null,
   "metadata": {
    "collapsed": true
   },
   "outputs": [],
   "source": []
  }
 ],
 "metadata": {
  "anaconda-cloud": {},
  "kernelspec": {
   "display_name": "Python [conda env:tensorflow]",
   "language": "python",
   "name": "conda-env-tensorflow-py"
  },
  "language_info": {
   "codemirror_mode": {
    "name": "ipython",
    "version": 2
   },
   "file_extension": ".py",
   "mimetype": "text/x-python",
   "name": "python",
   "nbconvert_exporter": "python",
   "pygments_lexer": "ipython2",
   "version": "2.7.13"
  }
 },
 "nbformat": 4,
 "nbformat_minor": 1
}
