{
 "cells": [
  {
   "cell_type": "code",
   "execution_count": 1,
   "metadata": {
    "collapsed": true
   },
   "outputs": [],
   "source": [
    "import sys\n",
    "sys.path.append('/Users/linggeli/graph_fmri/')"
   ]
  },
  {
   "cell_type": "code",
   "execution_count": 2,
   "metadata": {
    "collapsed": false
   },
   "outputs": [],
   "source": [
    "import numpy as np\n",
    "import matplotlib.pyplot as plt\n",
    "%matplotlib inline"
   ]
  },
  {
   "cell_type": "code",
   "execution_count": 3,
   "metadata": {
    "collapsed": true
   },
   "outputs": [],
   "source": [
    "from graph_fmri.src.helper import *\n",
    "from graph_fmri.src.build_graph import *\n",
    "from graph_fmri.src.graph_models import multi_cgcnn"
   ]
  },
  {
   "cell_type": "code",
   "execution_count": 15,
   "metadata": {
    "collapsed": true
   },
   "outputs": [],
   "source": [
    "import os"
   ]
  },
  {
   "cell_type": "code",
   "execution_count": 16,
   "metadata": {
    "collapsed": true
   },
   "outputs": [],
   "source": [
    "data_dir = '/Users/linggeli/graph_fmri/clas_data/'\n",
    "n_coef = 16"
   ]
  },
  {
   "cell_type": "code",
   "execution_count": 17,
   "metadata": {
    "collapsed": false
   },
   "outputs": [],
   "source": [
    "brain_regions = np.genfromtxt(os.path.join(data_dir, 'brain_regions.csv'), dtype=int, delimiter=',')[:40] - 1\n",
    "X = np.load(os.path.join(data_dir, 'features_259subjects_filtered.npy'))[:, brain_regions, :n_coef]\n",
    "y = np.load(os.path.join(data_dir, 'labels_259subjects.npy'))"
   ]
  },
  {
   "cell_type": "code",
   "execution_count": 18,
   "metadata": {
    "collapsed": false
   },
   "outputs": [
    {
     "name": "stdout",
     "output_type": "stream",
     "text": [
      "(1036, 40, 16)\n",
      "(1036,)\n"
     ]
    }
   ],
   "source": [
    "print(X.shape)\n",
    "print(y.shape)"
   ]
  },
  {
   "cell_type": "code",
   "execution_count": 19,
   "metadata": {
    "collapsed": false
   },
   "outputs": [],
   "source": [
    "A_spatial = spatial_distance_graph(os.path.join(data_dir, 'adj_matrix.csv'), brain_regions, 80)"
   ]
  },
  {
   "cell_type": "code",
   "execution_count": 20,
   "metadata": {
    "collapsed": false
   },
   "outputs": [
    {
     "data": {
      "image/png": "[encoded data removed]",
      "text/plain": [
       "<Figure size 432x288 with 1 Axes>"
      ]
     },
     "metadata": {
      "needs_background": "light"
     },
     "output_type": "display_data"
    }
   ],
   "source": [
    "plt.spy(A_spatial, markersize=2, color='black')\n",
    "plt.show()"
   ]
  },
  {
   "cell_type": "code",
   "execution_count": 21,
   "metadata": {
    "collapsed": true
   },
   "outputs": [],
   "source": [
    "X_train, y_train, X_val, y_val = prepare_data(X, y, 0.7)"
   ]
  },
  {
   "cell_type": "code",
   "execution_count": 22,
   "metadata": {
    "collapsed": false
   },
   "outputs": [
    {
     "name": "stdout",
     "output_type": "stream",
     "text": [
      "Layer 0: M_0 = |V| = 56 nodes (16 added),|E| = 190 edges\n",
      "Layer 1: M_1 = |V| = 28 nodes (7 added),|E| = 74 edges\n",
      "Layer 2: M_2 = |V| = 14 nodes (2 added),|E| = 30 edges\n",
      "Layer 3: M_3 = |V| = 7 nodes (0 added),|E| = 10 edges\n"
     ]
    }
   ],
   "source": [
    "L, X_train_graph, X_val_graph = structure_data(A_spatial, X_train, X_val)"
   ]
  },
  {
   "cell_type": "code",
   "execution_count": 12,
   "metadata": {
    "collapsed": false
   },
   "outputs": [],
   "source": [
    "params = graph_model_params(n_filter=20, dense_size=20, \n",
    "                            n_graph=n_coef, keep_prob=0.9,\n",
    "                            epochs=10, batch_size=20, \n",
    "                            n_train=X_train.shape[0], verbose=False)"
   ]
  },
  {
   "cell_type": "code",
   "execution_count": 13,
   "metadata": {
    "collapsed": false
   },
   "outputs": [
    {
     "name": "stdout",
     "output_type": "stream",
     "text": [
      "NN architecture\n",
      "  input: M_0 = 56\n",
      "  layer 1: cgconv1\n",
      "    representation: M_0 * F_1 / p_1 = 56 * 20 / 2 = 560\n",
      "    weights: F_0 * F_1 * K_1 = 1 * 20 * 10 = 200\n",
      "    biases: F_1 = 20\n",
      "  layer 2: cgconv2\n",
      "    representation: M_1 * F_2 / p_2 = 28 * 20 / 4 = 140\n",
      "    weights: F_1 * F_2 * K_2 = 20 * 20 * 10 = 4000\n",
      "    biases: F_2 = 20\n",
      "  layer 3: fc1\n",
      "    representation: M_3 = 20\n",
      "    weights: M_2 * M_3 = 140 * 20 = 2800\n",
      "    biases: M_3 = 20\n",
      "  layer 4: logits (softmax)\n",
      "    representation: M_4 = 2\n",
      "    weights: M_3 * M_4 = 20 * 2 = 40\n",
      "    biases: M_4 = 2\n"
     ]
    }
   ],
   "source": [
    "model = multi_cgcnn(L, **params)"
   ]
  },
  {
   "cell_type": "code",
   "execution_count": 14,
   "metadata": {
    "collapsed": false
   },
   "outputs": [
    {
     "name": "stdout",
     "output_type": "stream",
     "text": [
      "step 362 / 362 (epoch 9.99 / 10):\n",
      "  learning_rate = 6.30e-04, loss_average = 6.39e-01\n",
      "  validation accuracy: 74.60 (232 / 311), f1 (weighted): 74.55, loss: 6.61e-01\n",
      "  time: 129s (wall 45s)\n",
      "validation accuracy: peak = 74.60, mean = 74.60\n"
     ]
    }
   ],
   "source": [
    "accuracy, loss, t_step = model.fit(X_train_graph, y_train, X_val_graph, y_val)"
   ]
  },
  {
   "cell_type": "code",
   "execution_count": null,
   "metadata": {
    "collapsed": true
   },
   "outputs": [],
   "source": []
  }
 ],
 "metadata": {
  "anaconda-cloud": {},
  "kernelspec": {
   "display_name": "Python [conda env:graphcnn]",
   "language": "python",
   "name": "conda-env-graphcnn-py"
  },
  "language_info": {
   "codemirror_mode": {
    "name": "ipython",
    "version": 3
   },
   "file_extension": ".py",
   "mimetype": "text/x-python",
   "name": "python",
   "nbconvert_exporter": "python",
   "pygments_lexer": "ipython3",
   "version": "3.5.6"
  }
 },
 "nbformat": 4,
 "nbformat_minor": 1
}
