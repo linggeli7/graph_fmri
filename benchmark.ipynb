{
 "cells": [
  {
   "cell_type": "code",
   "execution_count": 1,
   "metadata": {
    "collapsed": true
   },
   "outputs": [],
   "source": [
    "import os\n",
    "import sys\n",
    "module_path = os.path.abspath(os.path.join('..'))\n",
    "if module_path not in sys.path:\n",
    "    sys.path.append(module_path)"
   ]
  },
  {
   "cell_type": "code",
   "execution_count": 2,
   "metadata": {
    "collapsed": true
   },
   "outputs": [],
   "source": [
    "import numpy as np\n",
    "import matplotlib.pyplot as plt\n",
    "%matplotlib inline"
   ]
  },
  {
   "cell_type": "code",
   "execution_count": 3,
   "metadata": {
    "collapsed": false
   },
   "outputs": [
    {
     "name": "stderr",
     "output_type": "stream",
     "text": [
      "Using TensorFlow backend.\n"
     ]
    }
   ],
   "source": [
    "from data_utils import *\n",
    "from other_models import *"
   ]
  },
  {
   "cell_type": "code",
   "execution_count": 4,
   "metadata": {
    "collapsed": true
   },
   "outputs": [],
   "source": [
    "time_series_dir = '/Users/linggeli/cnn_graph/data/time_series/cup/'\n",
    "behavioral_dir = '/Users/linggeli/cnn_graph/data/fMRIbehav/cup/'"
   ]
  },
  {
   "cell_type": "code",
   "execution_count": 5,
   "metadata": {
    "collapsed": true
   },
   "outputs": [],
   "source": [
    "subject_id_list = get_subject_id(time_series_dir)"
   ]
  },
  {
   "cell_type": "code",
   "execution_count": 6,
   "metadata": {
    "collapsed": false
   },
   "outputs": [
    {
     "name": "stdout",
     "output_type": "stream",
     "text": [
      "[3748, 2330, 2132, 2085, 2091, 3416, 2046, 2250, 2292, 3198, 2286, 2047, 2090, 2084, 2127, 2133, 3777, 2119, 2131, 2086, 2079, 2290, 2253, 2247, 2050, 2078, 3399, 2124, 2118, 2336, 2120, 2134, 2108, 2295, 3821, 2256, 2243, 2294, 3411, 3377, 2096, 2109, 2121, 3029, 2323, 2309, 3003, 2137, 2123, 2080, 3822, 2296, 2241, 2255, 3638, 3360, 2081, 2122, 2136, 2334, 2192, 2025, 2185, 2191, 2152, 3476, 2032, 2026, 3648, 2231, 3107, 2027, 2033, 2153, 2190, 3932, 2180, 2194, 2143, 2157, 2023, 2235, 2221, 2209, 3103, 3102, 3116, 2234, 2022, 2036, 2156, 2142, 3062, 3060, 2197, 2154, 2140, 2020, 2237, 2223, 2021, 2169, 2141, 2196, 3075, 3087, 2170, 2164, 2038, 2004, 3130, 2206, 2212, 2213, 3643, 2005, 2165, 2171, 3051, 2173, 2239, 2210, 2006, 3481, 2166, 3720, 3283, 2189, 2162, 2176, 2016, 2002, 3137, 2003, 2017, 2177, 2188, 3043, 3096, 2149, 2001, 2203, 2216, 2028, 2148, 2160, 3040, 2113, 2098, 2067, 3190, 2259, 3191, 3344, 2106, 3218, 2304, 2310, 2338, 2104, 2110, 2058, 2070, 2064, 2299, 3811, 2272, 2266, 2273, 3804, 3186, 3838, 2071, 3409, 2059, 2105, 2139, 2313, 2307, 3021, 3586, 2115, 2075, 2277, 2263, 3626, 2262, 3801, 3430, 2074, 2114, 2100, 3587, 3008, 2316, 2300, 2328, 2116, 2102, 3220, 2062, 2076, 3354, 2260, 2249, 2275, 2261, 2088, 2117]\n"
     ]
    }
   ],
   "source": [
    "print(subject_id_list)"
   ]
  },
  {
   "cell_type": "code",
   "execution_count": 7,
   "metadata": {
    "collapsed": true
   },
   "outputs": [],
   "source": [
    "N_COEF = 5"
   ]
  },
  {
   "cell_type": "code",
   "execution_count": 12,
   "metadata": {
    "collapsed": false
   },
   "outputs": [
    {
     "name": "stderr",
     "output_type": "stream",
     "text": [
      "100%|██████████| 209/209 [00:32<00:00,  6.45it/s]\n"
     ]
    }
   ],
   "source": [
    "X = get_all_features(time_series_dir, behavioral_dir, subject_id_list, \n",
    "                        n_time=64, coef_idx=range(N_COEF))\n",
    "y = get_all_labels(behavioral_dir, subject_id_list) - 1"
   ]
  },
  {
   "cell_type": "code",
   "execution_count": 13,
   "metadata": {
    "collapsed": false
   },
   "outputs": [
    {
     "name": "stdout",
     "output_type": "stream",
     "text": [
      "(836, 375, 5)\n",
      "(836,)\n"
     ]
    }
   ],
   "source": [
    "#X = X[:, :100, :]\n",
    "print(X.shape)\n",
    "print(y.shape)"
   ]
  },
  {
   "cell_type": "code",
   "execution_count": 14,
   "metadata": {
    "collapsed": true
   },
   "outputs": [],
   "source": [
    "n_train = 600\n",
    "n_val = 200\n",
    "\n",
    "np.random.seed(0)\n",
    "indices = np.random.permutation(X.shape[0])"
   ]
  },
  {
   "cell_type": "code",
   "execution_count": 15,
   "metadata": {
    "collapsed": true
   },
   "outputs": [],
   "source": [
    "X_train = X[indices[:n_train]]\n",
    "X_val   = X[indices[n_train:n_train+n_val]]\n",
    "X_test  = X[indices[n_train+n_val:]]\n",
    "\n",
    "y_train = y[indices[:n_train]]\n",
    "y_val   = y[indices[n_train:n_train+n_val]]\n",
    "y_test  = y[indices[n_train+n_val:]]"
   ]
  },
  {
   "cell_type": "code",
   "execution_count": 16,
   "metadata": {
    "collapsed": true
   },
   "outputs": [],
   "source": [
    "from sklearn import preprocessing"
   ]
  },
  {
   "cell_type": "code",
   "execution_count": 17,
   "metadata": {
    "collapsed": true
   },
   "outputs": [],
   "source": [
    "X_vec = X.reshape((X.shape[0], X.shape[1] * N_COEF))\n",
    "X_vec = preprocessing.scale(X_vec)\n",
    "X_train_vec = X_vec[indices[:n_train]]\n",
    "X_val_vec   = X_vec[indices[n_train:n_train+n_val]]\n",
    "X_test_vec  = X_vec[indices[n_train+n_val:]]"
   ]
  },
  {
   "cell_type": "code",
   "execution_count": 18,
   "metadata": {
    "collapsed": false
   },
   "outputs": [
    {
     "name": "stdout",
     "output_type": "stream",
     "text": [
      "(836, 1875)\n"
     ]
    }
   ],
   "source": [
    "print(X_vec.shape)"
   ]
  },
  {
   "cell_type": "code",
   "execution_count": 35,
   "metadata": {
    "collapsed": true
   },
   "outputs": [],
   "source": [
    "model = LogisticRegressionCV(cv=10, penalty='l1', solver='liblinear')"
   ]
  },
  {
   "cell_type": "code",
   "execution_count": 36,
   "metadata": {
    "collapsed": false
   },
   "outputs": [
    {
     "data": {
      "text/plain": [
       "LogisticRegressionCV(Cs=10, class_weight=None, cv=10, dual=False,\n",
       "           fit_intercept=True, intercept_scaling=1.0, max_iter=100,\n",
       "           multi_class='ovr', n_jobs=1, penalty='l1', random_state=None,\n",
       "           refit=True, scoring=None, solver='liblinear', tol=0.0001,\n",
       "           verbose=0)"
      ]
     },
     "execution_count": 36,
     "metadata": {},
     "output_type": "execute_result"
    }
   ],
   "source": [
    "model.fit(X_train_vec, y_train)"
   ]
  },
  {
   "cell_type": "code",
   "execution_count": 37,
   "metadata": {
    "collapsed": false
   },
   "outputs": [
    {
     "name": "stdout",
     "output_type": "stream",
     "text": [
      "1291.5496650148827\n"
     ]
    }
   ],
   "source": [
    "print(model.C_[0])"
   ]
  },
  {
   "cell_type": "code",
   "execution_count": 38,
   "metadata": {
    "collapsed": false
   },
   "outputs": [
    {
     "name": "stdout",
     "output_type": "stream",
     "text": [
      "0.65\n"
     ]
    }
   ],
   "source": [
    "y_hat = model.predict(X_val_vec)\n",
    "print(np.mean(y_hat == y_val))"
   ]
  },
  {
   "cell_type": "code",
   "execution_count": 58,
   "metadata": {
    "collapsed": false
   },
   "outputs": [],
   "source": [
    "y_prob = model.predict_proba(X_val_vec)[:, 1]"
   ]
  },
  {
   "cell_type": "code",
   "execution_count": 59,
   "metadata": {
    "collapsed": false
   },
   "outputs": [
    {
     "name": "stderr",
     "output_type": "stream",
     "text": [
      "Using TensorFlow backend.\n"
     ]
    }
   ],
   "source": [
    "from keras.models import Sequential\n",
    "from keras.layers import Dense, Dropout"
   ]
  },
  {
   "cell_type": "code",
   "execution_count": 60,
   "metadata": {
    "collapsed": false
   },
   "outputs": [
    {
     "name": "stdout",
     "output_type": "stream",
     "text": [
      "(836, 500)\n"
     ]
    }
   ],
   "source": [
    "print(X_vec.shape)"
   ]
  },
  {
   "cell_type": "code",
   "execution_count": 64,
   "metadata": {
    "collapsed": false
   },
   "outputs": [
    {
     "name": "stdout",
     "output_type": "stream",
     "text": [
      "_________________________________________________________________\n",
      "Layer (type)                 Output Shape              Param #   \n",
      "=================================================================\n",
      "dense_5 (Dense)              (None, 100)               50100     \n",
      "_________________________________________________________________\n",
      "dense_6 (Dense)              (None, 40)                4040      \n",
      "_________________________________________________________________\n",
      "dense_7 (Dense)              (None, 20)                820       \n",
      "_________________________________________________________________\n",
      "dropout_1 (Dropout)          (None, 20)                0         \n",
      "_________________________________________________________________\n",
      "dense_8 (Dense)              (None, 1)                 21        \n",
      "=================================================================\n",
      "Total params: 54,981\n",
      "Trainable params: 54,981\n",
      "Non-trainable params: 0\n",
      "_________________________________________________________________\n"
     ]
    }
   ],
   "source": [
    "model = Sequential()\n",
    "model.add(Dense(100, input_shape=(X.shape[1] * N_COEF,), activation='relu'))\n",
    "model.add(Dense(40, activation='relu'))\n",
    "model.add(Dense(20, activation='relu'))\n",
    "model.add(Dropout(0.2))\n",
    "model.add(Dense(1, activation='sigmoid'))\n",
    "model.summary()"
   ]
  },
  {
   "cell_type": "code",
   "execution_count": 65,
   "metadata": {
    "collapsed": true
   },
   "outputs": [],
   "source": [
    "model.compile(optimizer='adam',\n",
    "              loss='binary_crossentropy',\n",
    "              metrics=['accuracy'])"
   ]
  },
  {
   "cell_type": "code",
   "execution_count": 66,
   "metadata": {
    "collapsed": false
   },
   "outputs": [
    {
     "name": "stdout",
     "output_type": "stream",
     "text": [
      "Train on 600 samples, validate on 200 samples\n",
      "Epoch 1/10\n",
      "600/600 [==============================] - 1s 993us/step - loss: 0.7346 - acc: 0.5433 - val_loss: 0.6997 - val_acc: 0.5200\n",
      "Epoch 2/10\n",
      "600/600 [==============================] - 0s 59us/step - loss: 0.5944 - acc: 0.6550 - val_loss: 0.6747 - val_acc: 0.5500\n",
      "Epoch 3/10\n",
      "600/600 [==============================] - 0s 57us/step - loss: 0.4947 - acc: 0.7783 - val_loss: 0.6681 - val_acc: 0.6200\n",
      "Epoch 4/10\n",
      "600/600 [==============================] - 0s 58us/step - loss: 0.4551 - acc: 0.8083 - val_loss: 0.6694 - val_acc: 0.6350\n",
      "Epoch 5/10\n",
      "600/600 [==============================] - 0s 58us/step - loss: 0.3912 - acc: 0.8500 - val_loss: 0.6788 - val_acc: 0.6350\n",
      "Epoch 6/10\n",
      "600/600 [==============================] - 0s 54us/step - loss: 0.3442 - acc: 0.8817 - val_loss: 0.6813 - val_acc: 0.6500\n",
      "Epoch 7/10\n",
      "600/600 [==============================] - 0s 57us/step - loss: 0.3006 - acc: 0.9033 - val_loss: 0.6961 - val_acc: 0.6550\n",
      "Epoch 8/10\n",
      "600/600 [==============================] - 0s 67us/step - loss: 0.2520 - acc: 0.9350 - val_loss: 0.7341 - val_acc: 0.6450\n",
      "Epoch 9/10\n",
      "600/600 [==============================] - 0s 65us/step - loss: 0.2161 - acc: 0.9500 - val_loss: 0.7534 - val_acc: 0.6600\n",
      "Epoch 10/10\n",
      "600/600 [==============================] - 0s 65us/step - loss: 0.1710 - acc: 0.9617 - val_loss: 0.7855 - val_acc: 0.6600\n"
     ]
    }
   ],
   "source": [
    "hist = model.fit(X_train_vec, y_train, batch_size=100, epochs=10, validation_data=(X_val_vec, y_val))"
   ]
  },
  {
   "cell_type": "code",
   "execution_count": 88,
   "metadata": {
    "collapsed": false
   },
   "outputs": [
    {
     "name": "stdout",
     "output_type": "stream",
     "text": [
      "(200, 1)\n"
     ]
    }
   ],
   "source": [
    "y_hat = model.predict(X_val_vec)\n",
    "print(y_hat.shape)"
   ]
  },
  {
   "cell_type": "code",
   "execution_count": 89,
   "metadata": {
    "collapsed": false
   },
   "outputs": [
    {
     "name": "stdout",
     "output_type": "stream",
     "text": [
      "(600, 100, 5)\n"
     ]
    }
   ],
   "source": [
    "print(X_train.shape)"
   ]
  },
  {
   "cell_type": "code",
   "execution_count": 90,
   "metadata": {
    "collapsed": true
   },
   "outputs": [],
   "source": [
    "from keras import Model\n",
    "from keras.layers import Conv2D, MaxPooling2D, Input, Flatten, AveragePooling2D"
   ]
  },
  {
   "cell_type": "code",
   "execution_count": 91,
   "metadata": {
    "collapsed": false
   },
   "outputs": [
    {
     "name": "stdout",
     "output_type": "stream",
     "text": [
      "_________________________________________________________________\n",
      "Layer (type)                 Output Shape              Param #   \n",
      "=================================================================\n",
      "input_4 (InputLayer)         (None, 100, 5, 1)         0         \n",
      "_________________________________________________________________\n",
      "conv2d_4 (Conv2D)            (None, 100, 5, 20)        520       \n",
      "_________________________________________________________________\n",
      "average_pooling2d_4 (Average (None, 20, 1, 20)         0         \n",
      "_________________________________________________________________\n",
      "flatten_4 (Flatten)          (None, 400)               0         \n",
      "_________________________________________________________________\n",
      "dense_15 (Dense)             (None, 20)                8020      \n",
      "_________________________________________________________________\n",
      "dropout_4 (Dropout)          (None, 20)                0         \n",
      "_________________________________________________________________\n",
      "dense_16 (Dense)             (None, 1)                 21        \n",
      "=================================================================\n",
      "Total params: 8,561\n",
      "Trainable params: 8,561\n",
      "Non-trainable params: 0\n",
      "_________________________________________________________________\n"
     ]
    }
   ],
   "source": [
    "input_image = Input(shape=(100, 5, 1))\n",
    "x = Conv2D(20, (5, 5), padding='same', activation='relu')(input_image)\n",
    "x = AveragePooling2D((5, 5))(x)\n",
    "#x = Conv2D(20, (3, 3), padding='same', activation='relu')(x)\n",
    "x = Flatten()(x)\n",
    "x = Dense(20, activation='relu')(x)\n",
    "x = Dropout(0.2)(x)\n",
    "y = Dense(1, activation='sigmoid')(x)\n",
    "conv_model = Model(input_image, y)\n",
    "conv_model.summary()"
   ]
  },
  {
   "cell_type": "code",
   "execution_count": 92,
   "metadata": {
    "collapsed": true
   },
   "outputs": [],
   "source": [
    "conv_model.compile(optimizer='adam',\n",
    "              loss='binary_crossentropy',\n",
    "              metrics=['accuracy'])"
   ]
  },
  {
   "cell_type": "code",
   "execution_count": 93,
   "metadata": {
    "collapsed": true
   },
   "outputs": [],
   "source": [
    "X_train = (X_train - np.mean(X)) / np.std(X)\n",
    "X_val = (X_val - np.mean(X)) / np.std(X)\n",
    "X_train_image = np.expand_dims(X_train, axis=-1)\n",
    "X_val_image = np.expand_dims(X_val, axis=-1)"
   ]
  },
  {
   "cell_type": "code",
   "execution_count": 100,
   "metadata": {
    "collapsed": false
   },
   "outputs": [
    {
     "name": "stdout",
     "output_type": "stream",
     "text": [
      "Train on 600 samples, validate on 200 samples\n",
      "Epoch 1/10\n",
      "600/600 [==============================] - 0s 368us/step - loss: 0.5292 - acc: 0.7433 - val_loss: 0.6318 - val_acc: 0.6750\n",
      "Epoch 2/10\n",
      "600/600 [==============================] - 0s 345us/step - loss: 0.5352 - acc: 0.7200 - val_loss: 0.6328 - val_acc: 0.7000\n",
      "Epoch 3/10\n",
      "600/600 [==============================] - 0s 343us/step - loss: 0.5282 - acc: 0.7333 - val_loss: 0.6246 - val_acc: 0.7000\n",
      "Epoch 4/10\n",
      "600/600 [==============================] - 0s 342us/step - loss: 0.5350 - acc: 0.7433 - val_loss: 0.6281 - val_acc: 0.6900\n",
      "Epoch 5/10\n",
      "600/600 [==============================] - 0s 338us/step - loss: 0.5189 - acc: 0.7600 - val_loss: 0.6199 - val_acc: 0.7050\n",
      "Epoch 6/10\n",
      "600/600 [==============================] - 0s 340us/step - loss: 0.5271 - acc: 0.7383 - val_loss: 0.6420 - val_acc: 0.6850\n",
      "Epoch 7/10\n",
      "600/600 [==============================] - 0s 354us/step - loss: 0.5205 - acc: 0.7500 - val_loss: 0.6262 - val_acc: 0.7100\n",
      "Epoch 8/10\n",
      "600/600 [==============================] - 0s 359us/step - loss: 0.5166 - acc: 0.7533 - val_loss: 0.6244 - val_acc: 0.7050\n",
      "Epoch 9/10\n",
      "600/600 [==============================] - 0s 363us/step - loss: 0.5077 - acc: 0.7600 - val_loss: 0.6310 - val_acc: 0.6900\n",
      "Epoch 10/10\n",
      "600/600 [==============================] - 0s 360us/step - loss: 0.5145 - acc: 0.7583 - val_loss: 0.6282 - val_acc: 0.6900\n"
     ]
    },
    {
     "data": {
      "text/plain": [
       "<keras.callbacks.History at 0x121a25208>"
      ]
     },
     "execution_count": 100,
     "metadata": {},
     "output_type": "execute_result"
    }
   ],
   "source": [
    "conv_model.fit(X_train_image, y_train, batch_size=100, epochs=10, verbose=1, validation_data=(X_val_image, y_val))"
   ]
  },
  {
   "cell_type": "code",
   "execution_count": 81,
   "metadata": {
    "collapsed": true
   },
   "outputs": [],
   "source": [
    "y_true = y_val\n",
    "y_hat = conv_model.predict(X_val_image)[:, 0]"
   ]
  },
  {
   "cell_type": "code",
   "execution_count": 82,
   "metadata": {
    "collapsed": true
   },
   "outputs": [],
   "source": [
    "from sklearn.metrics import roc_curve, auc"
   ]
  },
  {
   "cell_type": "code",
   "execution_count": 83,
   "metadata": {
    "collapsed": false
   },
   "outputs": [
    {
     "name": "stdout",
     "output_type": "stream",
     "text": [
      "0.5906315684115704\n"
     ]
    }
   ],
   "source": [
    "fpr, tpr, _ = roc_curve(y_true, y_hat)\n",
    "roc_auc = auc(fpr, tpr)\n",
    "print(roc_auc)"
   ]
  },
  {
   "cell_type": "code",
   "execution_count": 87,
   "metadata": {
    "collapsed": false
   },
   "outputs": [
    {
     "data": {
      "text/plain": [
       "Text(0,0.5,'True Positive Rate')"
      ]
     },
     "execution_count": 87,
     "metadata": {},
     "output_type": "execute_result"
    },
    {
     "data": {
      "image/png": "[encoded data removed]",
      "text/plain": [
       "<Figure size 432x288 with 1 Axes>"
      ]
     },
     "metadata": {
      "needs_background": "light"
     },
     "output_type": "display_data"
    }
   ],
   "source": [
    "plt.figure()\n",
    "plt.plot(fpr, tpr, color='darkorange', label='')\n",
    "plt.plot([0, 1], [0, 1], color='navy', linestyle='--')\n",
    "plt.xlim([0.0, 1.0])\n",
    "plt.ylim([0.0, 1.05])\n",
    "plt.xlabel('False Positive Rate')\n",
    "plt.ylabel('True Positive Rate')"
   ]
  },
  {
   "cell_type": "code",
   "execution_count": 96,
   "metadata": {
    "collapsed": false
   },
   "outputs": [
    {
     "data": {
      "text/plain": [
       "'Model architecture: [40, 20]; Dropout probability: 0.1'"
      ]
     },
     "execution_count": 96,
     "metadata": {},
     "output_type": "execute_result"
    }
   ],
   "source": [
    "'Model architecture: {arch}; Dropout probability: {p}'.format(arch=[40, 20], p=0.1)"
   ]
  },
  {
   "cell_type": "code",
   "execution_count": 97,
   "metadata": {
    "collapsed": false
   },
   "outputs": [
    {
     "name": "stdout",
     "output_type": "stream",
     "text": [
      "Number of filters: 10; Dense layer size: 20; Dropout probability: 0.1\n"
     ]
    }
   ],
   "source": [
    "print('Number of filters: {c}; Dense layer size: {d}; '\n",
    "      'Dropout probability: {p}'.format(c=10, d=20, p=0.1))"
   ]
  },
  {
   "cell_type": "code",
   "execution_count": null,
   "metadata": {
    "collapsed": true
   },
   "outputs": [],
   "source": []
  }
 ],
 "metadata": {
  "anaconda-cloud": {},
  "kernelspec": {
   "display_name": "Python [conda env:graphcnn]",
   "language": "python",
   "name": "conda-env-graphcnn-py"
  },
  "language_info": {
   "codemirror_mode": {
    "name": "ipython",
    "version": 3
   },
   "file_extension": ".py",
   "mimetype": "text/x-python",
   "name": "python",
   "nbconvert_exporter": "python",
   "pygments_lexer": "ipython3",
   "version": "3.5.6"
  }
 },
 "nbformat": 4,
 "nbformat_minor": 1
}
